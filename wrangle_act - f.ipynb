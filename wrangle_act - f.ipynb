{
 "cells": [
  {
   "cell_type": "markdown",
   "metadata": {},
   "source": [
    "# Data Wrangling"
   ]
  },
  {
   "cell_type": "code",
   "execution_count": 149,
   "metadata": {},
   "outputs": [],
   "source": [
    "#import the libraries\n",
    "import pandas as pd\n",
    "import numpy as np\n",
    "import tweepy\n",
    "from tweepy import OAuthHandler\n",
    "import datetime\n",
    "import time\n",
    "import json\n",
    "import re\n",
    "from timeit import default_timer as timer\n",
    "import requests\n",
    "import os\n",
    "import json\n",
    "import matplotlib.pyplot as plt\n",
    "%matplotlib inline\n",
    "import seaborn as sns"
   ]
  },
  {
   "cell_type": "markdown",
   "metadata": {},
   "source": [
    "# Data Gathering"
   ]
  },
  {
   "cell_type": "code",
   "execution_count": 150,
   "metadata": {},
   "outputs": [],
   "source": [
    "# Gathering Twitter archive dataset\n",
    "archive_df = pd.read_csv('twitter-archive-enhanced.csv')"
   ]
  },
  {
   "cell_type": "code",
   "execution_count": 151,
   "metadata": {},
   "outputs": [],
   "source": [
    "# Requesting the Image Predictions File from a url online\n",
    "url = \" https://d17h27t6h515a5.cloudfront.net/topher/2017/August/599fd2ad_image-predictions/image-predictions.tsv\"\n",
    "response = requests.get(url)"
   ]
  },
  {
   "cell_type": "code",
   "execution_count": 152,
   "metadata": {},
   "outputs": [],
   "source": [
    "file_name = url.split('/')[-1]"
   ]
  },
  {
   "cell_type": "code",
   "execution_count": 153,
   "metadata": {},
   "outputs": [],
   "source": [
    "if not os.path.isfile(file_name):\n",
    "    with open(file_name , 'wb') as file:\n",
    "        file.write(response.content)"
   ]
  },
  {
   "cell_type": "code",
   "execution_count": 154,
   "metadata": {},
   "outputs": [],
   "source": [
    "image_prediction_df = pd.read_csv('image-predictions.tsv', sep='\\t' )"
   ]
  },
  {
   "cell_type": "code",
   "execution_count": 155,
   "metadata": {},
   "outputs": [],
   "source": [
    "# Pulling data using Twitter API\n",
    "consumer_key = 'HZ2gkugOAewbC8NOLZ4b3F4nk'\n",
    "consumer_secret = 'mCXZ2Kmr4gj8465K6E4mgKZF8n9Xo1mXiuli2KwtaAT81IfNS4'\n",
    "access_token = '939828970685689857-uLb20W3sBXQmZEIJSX4bp1occHNGTKw'\n",
    "access_secret = 'CKlDEvP3YXnEZKAdGJvkRSS6GDVB2cVC6WLZDfE22ngzw'\n",
    "\n",
    "auth = tweepy.OAuthHandler(consumer_key, consumer_secret)\n",
    "auth.set_access_token(access_token, access_secret)\n",
    "\n",
    "api = tweepy.API(auth, wait_on_rate_limit=True, wait_on_rate_limit_notify=True)"
   ]
  },
  {
   "cell_type": "code",
   "execution_count": 156,
   "metadata": {
    "scrolled": true
   },
   "outputs": [
    {
     "ename": "TweepError",
     "evalue": "[{'code': 89, 'message': 'Invalid or expired token.'}]",
     "output_type": "error",
     "traceback": [
      "\u001b[1;31m---------------------------------------------------------------------------\u001b[0m",
      "\u001b[1;31mTweepError\u001b[0m                                Traceback (most recent call last)",
      "\u001b[1;32m<ipython-input-156-26c2aa72bce2>\u001b[0m in \u001b[0;36m<module>\u001b[1;34m\u001b[0m\n\u001b[0;32m      1\u001b[0m \u001b[1;31m#Experimenting to extract one tweet's id information\u001b[0m\u001b[1;33m\u001b[0m\u001b[1;33m\u001b[0m\u001b[1;33m\u001b[0m\u001b[0m\n\u001b[1;32m----> 2\u001b[1;33m \u001b[0mexp_tweet\u001b[0m \u001b[1;33m=\u001b[0m \u001b[0mapi\u001b[0m\u001b[1;33m.\u001b[0m\u001b[0mget_status\u001b[0m\u001b[1;33m(\u001b[0m\u001b[0marchive_df\u001b[0m\u001b[1;33m.\u001b[0m\u001b[0mtweet_id\u001b[0m\u001b[1;33m[\u001b[0m\u001b[1;36m1000\u001b[0m\u001b[1;33m]\u001b[0m\u001b[1;33m,\u001b[0m \u001b[0mtweet_mode\u001b[0m \u001b[1;33m=\u001b[0m \u001b[1;34m'extended'\u001b[0m\u001b[1;33m)\u001b[0m\u001b[1;33m\u001b[0m\u001b[1;33m\u001b[0m\u001b[0m\n\u001b[0m\u001b[0;32m      3\u001b[0m \u001b[0mcontent\u001b[0m \u001b[1;33m=\u001b[0m \u001b[0mexp_tweet\u001b[0m\u001b[1;33m.\u001b[0m\u001b[0m_json\u001b[0m\u001b[1;33m\u001b[0m\u001b[1;33m\u001b[0m\u001b[0m\n\u001b[0;32m      4\u001b[0m \u001b[0mcontent\u001b[0m\u001b[1;33m\u001b[0m\u001b[1;33m\u001b[0m\u001b[0m\n",
      "\u001b[1;32m~\\anaconda3\\lib\\site-packages\\tweepy\\binder.py\u001b[0m in \u001b[0;36m_call\u001b[1;34m(*args, **kwargs)\u001b[0m\n\u001b[0;32m    251\u001b[0m                 \u001b[1;32mreturn\u001b[0m \u001b[0mmethod\u001b[0m\u001b[1;33m\u001b[0m\u001b[1;33m\u001b[0m\u001b[0m\n\u001b[0;32m    252\u001b[0m             \u001b[1;32melse\u001b[0m\u001b[1;33m:\u001b[0m\u001b[1;33m\u001b[0m\u001b[1;33m\u001b[0m\u001b[0m\n\u001b[1;32m--> 253\u001b[1;33m                 \u001b[1;32mreturn\u001b[0m \u001b[0mmethod\u001b[0m\u001b[1;33m.\u001b[0m\u001b[0mexecute\u001b[0m\u001b[1;33m(\u001b[0m\u001b[1;33m)\u001b[0m\u001b[1;33m\u001b[0m\u001b[1;33m\u001b[0m\u001b[0m\n\u001b[0m\u001b[0;32m    254\u001b[0m         \u001b[1;32mfinally\u001b[0m\u001b[1;33m:\u001b[0m\u001b[1;33m\u001b[0m\u001b[1;33m\u001b[0m\u001b[0m\n\u001b[0;32m    255\u001b[0m             \u001b[0mmethod\u001b[0m\u001b[1;33m.\u001b[0m\u001b[0msession\u001b[0m\u001b[1;33m.\u001b[0m\u001b[0mclose\u001b[0m\u001b[1;33m(\u001b[0m\u001b[1;33m)\u001b[0m\u001b[1;33m\u001b[0m\u001b[1;33m\u001b[0m\u001b[0m\n",
      "\u001b[1;32m~\\anaconda3\\lib\\site-packages\\tweepy\\binder.py\u001b[0m in \u001b[0;36mexecute\u001b[1;34m(self)\u001b[0m\n\u001b[0;32m    232\u001b[0m                     \u001b[1;32mraise\u001b[0m \u001b[0mRateLimitError\u001b[0m\u001b[1;33m(\u001b[0m\u001b[0merror_msg\u001b[0m\u001b[1;33m,\u001b[0m \u001b[0mresp\u001b[0m\u001b[1;33m)\u001b[0m\u001b[1;33m\u001b[0m\u001b[1;33m\u001b[0m\u001b[0m\n\u001b[0;32m    233\u001b[0m                 \u001b[1;32melse\u001b[0m\u001b[1;33m:\u001b[0m\u001b[1;33m\u001b[0m\u001b[1;33m\u001b[0m\u001b[0m\n\u001b[1;32m--> 234\u001b[1;33m                     \u001b[1;32mraise\u001b[0m \u001b[0mTweepError\u001b[0m\u001b[1;33m(\u001b[0m\u001b[0merror_msg\u001b[0m\u001b[1;33m,\u001b[0m \u001b[0mresp\u001b[0m\u001b[1;33m,\u001b[0m \u001b[0mapi_code\u001b[0m\u001b[1;33m=\u001b[0m\u001b[0mapi_error_code\u001b[0m\u001b[1;33m)\u001b[0m\u001b[1;33m\u001b[0m\u001b[1;33m\u001b[0m\u001b[0m\n\u001b[0m\u001b[0;32m    235\u001b[0m \u001b[1;33m\u001b[0m\u001b[0m\n\u001b[0;32m    236\u001b[0m             \u001b[1;31m# Parse the response payload\u001b[0m\u001b[1;33m\u001b[0m\u001b[1;33m\u001b[0m\u001b[1;33m\u001b[0m\u001b[0m\n",
      "\u001b[1;31mTweepError\u001b[0m: [{'code': 89, 'message': 'Invalid or expired token.'}]"
     ]
    }
   ],
   "source": [
    "#Experimenting to extract one tweet's id information\n",
    "exp_tweet = api.get_status(archive_df.tweet_id[1000], tweet_mode = 'extended')\n",
    "content = exp_tweet._json\n",
    "content"
   ]
  },
  {
   "cell_type": "code",
   "execution_count": null,
   "metadata": {},
   "outputs": [],
   "source": []
  },
  {
   "cell_type": "code",
   "execution_count": null,
   "metadata": {},
   "outputs": [],
   "source": [
    "df_list = []\n",
    "\n",
    "with open('tweet_json.txt', 'r') as file:\n",
    "    for line in file:\n",
    "        tweet = json.loads(line)\n",
    "        tweet_id = tweet['id']\n",
    "        retweet_count = tweet['retweet_count']\n",
    "        fav_count = tweet['favorite_count']\n",
    "        df_list.append({'tweet_id':tweet_id,\n",
    "                       'retweet_count': retweet_count,\n",
    "                       'favorite_count': fav_count})\n",
    "        \n",
    "api_df = pd.DataFrame(df_list, columns= ['tweet_id', 'retweet_count', 'favorite_count'])\n",
    "api_df.head()"
   ]
  },
  {
   "cell_type": "markdown",
   "metadata": {},
   "source": [
    "# Data Assessment"
   ]
  },
  {
   "cell_type": "markdown",
   "metadata": {},
   "source": [
    "### Twitter archive Assessment"
   ]
  },
  {
   "cell_type": "markdown",
   "metadata": {},
   "source": [
    "##### Visual Assessment"
   ]
  },
  {
   "cell_type": "code",
   "execution_count": null,
   "metadata": {
    "scrolled": true
   },
   "outputs": [],
   "source": [
    "pd.set_option('display.max_rows', 1000)\n",
    "pd.set_option('display.max_colwidth', -1)\n",
    "archive_df.head()"
   ]
  },
  {
   "cell_type": "code",
   "execution_count": null,
   "metadata": {},
   "outputs": [],
   "source": [
    "archive_df.sample(5)"
   ]
  },
  {
   "cell_type": "code",
   "execution_count": null,
   "metadata": {},
   "outputs": [],
   "source": [
    "image_prediction_df.head()"
   ]
  },
  {
   "cell_type": "code",
   "execution_count": null,
   "metadata": {
    "scrolled": true
   },
   "outputs": [],
   "source": [
    "api_df.head()"
   ]
  },
  {
   "cell_type": "markdown",
   "metadata": {},
   "source": [
    "##### programmatic Assessment"
   ]
  },
  {
   "cell_type": "code",
   "execution_count": null,
   "metadata": {
    "scrolled": false
   },
   "outputs": [],
   "source": [
    "archive_df.info()"
   ]
  },
  {
   "cell_type": "code",
   "execution_count": null,
   "metadata": {
    "scrolled": true
   },
   "outputs": [],
   "source": [
    "archive_df.name.value_counts()"
   ]
  },
  {
   "cell_type": "code",
   "execution_count": null,
   "metadata": {},
   "outputs": [],
   "source": [
    "#Check for number of pets under each category\n",
    "(archive_df.loc[:, 'doggo':\"puppo\"] != 'None') .sum()"
   ]
  },
  {
   "cell_type": "code",
   "execution_count": null,
   "metadata": {},
   "outputs": [],
   "source": [
    "#Check if every pet have only one classification\n",
    "#Getting all the tweets where the value of both 'doggo' and 'pupper' is not none\n",
    "nonunique_stage = archive_df[(archive_df['doggo'] != 'None') & (archive_df['pupper'] != 'None')]\n",
    "nonunique_stage.head()"
   ]
  },
  {
   "cell_type": "code",
   "execution_count": null,
   "metadata": {},
   "outputs": [],
   "source": [
    "#Check if pets have more than one classification\n",
    "nonunique_stage.iloc[:, -4:].head()"
   ]
  },
  {
   "cell_type": "code",
   "execution_count": null,
   "metadata": {},
   "outputs": [],
   "source": [
    "archive_df['source'].value_counts()"
   ]
  },
  {
   "cell_type": "code",
   "execution_count": null,
   "metadata": {
    "scrolled": false
   },
   "outputs": [],
   "source": [
    "archive_df.rating_denominator.value_counts()"
   ]
  },
  {
   "cell_type": "code",
   "execution_count": null,
   "metadata": {
    "scrolled": true
   },
   "outputs": [],
   "source": [
    "archive_df.rating_numerator.value_counts()"
   ]
  },
  {
   "cell_type": "code",
   "execution_count": null,
   "metadata": {
    "scrolled": false
   },
   "outputs": [],
   "source": [
    "#Investigating tweets about extreme values in numerators.\n",
    "archive_df[archive_df['rating_numerator'] > 15].text"
   ]
  },
  {
   "cell_type": "code",
   "execution_count": null,
   "metadata": {
    "scrolled": false
   },
   "outputs": [],
   "source": [
    "#Investigating tweets too low numerators.\n",
    "archive_df[archive_df['rating_numerator'] < 6].text"
   ]
  },
  {
   "cell_type": "code",
   "execution_count": null,
   "metadata": {
    "scrolled": false
   },
   "outputs": [],
   "source": [
    "#Investigating tweets have denominators not equal to 10.\n",
    "archive_df[archive_df['rating_denominator'] != 10].text"
   ]
  },
  {
   "cell_type": "markdown",
   "metadata": {},
   "source": [
    "### Observations:\n",
    "#### ( Archive)\n",
    "1. 'tweet_id' data type in 3 dataframes is (int), it should be to object datatype.\n",
    "2. There are 181 retweets and 78 replies.\n",
    "3. Columns for retweets and replies exist so it will be removed.\n",
    "4. 'timestamp' datatype is string format (object), it should be to datetime datatype.\n",
    "5. 'timestamp' column contains \"+0000\", remove it.\n",
    "6. 'Source' column not clear, remove HTML links.\n",
    "7. Some cells in 'expanded_urls' column have duplicated urls.\n",
    "8. Invalid lowercase entries in 'name' column.\n",
    "9. Some dogs have two stage classifications.\n",
    "10. There are 4 columns for dog stages (doggo, floofer, pupper, puppo) which will be merged later in one column.\n",
    "11. Some denominators not equal to 10, will investgate more after removing retweet and replies.\n",
    "12. Some numerators is too high, will investgate more after removing retweet and replies.\n",
    "13. Some numerators is too low, will investgate more after removing retweet and replies.\n",
    "14. Noticed some decimal ratingss in the text while examining.\n",
    "15. while examining denominators not equal to 10, noticed some entries have no rating at all those will be replaced by missing values.\n",
    "16. Some images contains more than one dog which affects the ratings number and Multiplies it."
   ]
  },
  {
   "cell_type": "markdown",
   "metadata": {},
   "source": [
    "#### Image Predictions Assessment"
   ]
  },
  {
   "cell_type": "code",
   "execution_count": null,
   "metadata": {
    "scrolled": true
   },
   "outputs": [],
   "source": [
    "image_prediction_df.info()"
   ]
  },
  {
   "cell_type": "code",
   "execution_count": null,
   "metadata": {
    "scrolled": true
   },
   "outputs": [],
   "source": [
    "# Check prediction table for any duplicated images\n",
    "len(image_prediction_df[image_prediction_df.jpg_url.duplicated()])"
   ]
  },
  {
   "cell_type": "code",
   "execution_count": null,
   "metadata": {
    "scrolled": true
   },
   "outputs": [],
   "source": [
    "print(image_prediction_df.p1_dog.value_counts())\n",
    "print(image_prediction_df.p2_dog.value_counts())\n",
    "print(image_prediction_df.p3_dog.value_counts())"
   ]
  },
  {
   "cell_type": "markdown",
   "metadata": {},
   "source": [
    "### Observations:\n",
    "#### ( Image Predictions)\n",
    "1. Columns of prediction and confidence  and breed need to be renamed."
   ]
  },
  {
   "cell_type": "markdown",
   "metadata": {},
   "source": [
    "#### Twitter API Data Assessment"
   ]
  },
  {
   "cell_type": "code",
   "execution_count": null,
   "metadata": {
    "scrolled": true
   },
   "outputs": [],
   "source": [
    "api_df"
   ]
  },
  {
   "cell_type": "code",
   "execution_count": null,
   "metadata": {
    "scrolled": true
   },
   "outputs": [],
   "source": [
    "api_df.info()"
   ]
  },
  {
   "cell_type": "markdown",
   "metadata": {},
   "source": [
    "### Observations:\n",
    "#### ( Image Predictions)\n",
    "1. Need to be merged with archive dataset."
   ]
  },
  {
   "cell_type": "markdown",
   "metadata": {},
   "source": [
    "# Quality Issues"
   ]
  },
  {
   "cell_type": "markdown",
   "metadata": {},
   "source": [
    "#### Twitter archive:\n",
    "1.  Remove Retweets and Replies as its a key point.\n",
    "2.  Drop unnecessary columns filled with missing values “in_reply_to_status_id”, “in_reply_to_user_id”, \"retweeted_status_id\", “retweeted_status_user_id”, “retweeted_status_timestamp”.\n",
    "3. Convert invalid lowercase entries in \"name\" column to NaN.\n",
    "4. String \"none\" in the 4 dog stage columns should be replaced with empty string(\"\") to merge the 4 columns later.\n",
    "5. Modify decimal rating_numerators to be valid.\n",
    "6. Replace entries that it dosn't contain rating at all by missing values.\n",
    "7. Modifying ratings that is multiplied by the number of dogs in pictuers.\n",
    "8. Assign all denominator ratings to be equal to 10.\n",
    "9. Correct rating_numerator less than 6.\n",
    "10. Remove \"+0000\" from 'timestamp' column.\n",
    "11. Convert 'tweet_id' datatype in archive_clean, image_prediction_clean, and api_clean to object and datatype of 'timestamp' to datetime.\n",
    "12. Extract HTML link from the content of source column to make it more readable.\n",
    "13. Remove duplicates in 'expanded_urls' column. \n",
    "\n",
    "#### Image Predictions:\n",
    "14. Rename columns of image_predections dataset to be more descriptive.\n",
    "15. Remove duplicated urls in 'jpg_url' column."
   ]
  },
  {
   "cell_type": "markdown",
   "metadata": {},
   "source": [
    "# Tidiness Issues\n",
    "#### Twitter archive:\n",
    "1. Merge the 4 dog stage columns into a single column in the archive table.\n",
    "\n",
    "#### Image Predictions:\n",
    "2. Reshape Image Predictions from wide to long.\n",
    "\n",
    "#### Twitter API Data:\n",
    "3. Merge cleaned Twitter API Data and cleaned archive data table into single data frame."
   ]
  },
  {
   "cell_type": "markdown",
   "metadata": {},
   "source": [
    "# Cleaning "
   ]
  },
  {
   "cell_type": "code",
   "execution_count": null,
   "metadata": {},
   "outputs": [],
   "source": [
    "#copy dataframes\n",
    "archive_clean = archive_df.copy()\n",
    "image_prediction_clean = image_prediction_df.copy()\n",
    "api_clean = api_df.copy()"
   ]
  },
  {
   "cell_type": "markdown",
   "metadata": {},
   "source": [
    "# Quality Issues: `Twitter archive`"
   ]
  },
  {
   "cell_type": "markdown",
   "metadata": {},
   "source": [
    "### 1.Define\n",
    "1. Remove retweets and replies to keep only the original tweets as its the key point."
   ]
  },
  {
   "cell_type": "markdown",
   "metadata": {},
   "source": [
    "#### Code"
   ]
  },
  {
   "cell_type": "code",
   "execution_count": null,
   "metadata": {},
   "outputs": [],
   "source": [
    "#Use the image_prediction table to guide the selection and removal of tweets without images in the archive table.\n",
    "#create list of tweet_ids with images \"tweets_with_image\".\n",
    "tweets_with_image = list(image_prediction_clean.tweet_id.unique())"
   ]
  },
  {
   "cell_type": "code",
   "execution_count": null,
   "metadata": {},
   "outputs": [],
   "source": [
    "#chekcing if all tweets with images exist in the archive dataset.\n",
    "len(tweets_with_image) == archive_clean.tweet_id.isin(tweets_with_image).sum()"
   ]
  },
  {
   "cell_type": "code",
   "execution_count": null,
   "metadata": {},
   "outputs": [],
   "source": [
    "#Removing tweets without images.\n",
    "archive_clean = archive_clean[archive_clean.tweet_id.isin(tweets_with_image)]"
   ]
  },
  {
   "cell_type": "code",
   "execution_count": null,
   "metadata": {},
   "outputs": [],
   "source": [
    "#Use the image_prediction table to guide the selection and removal of tweets without images in the API table\n",
    "# creating list of tweet_ids with images \"tweets_with_image\"\n",
    "tweets_with_image = list(image_prediction_clean.tweet_id.unique())"
   ]
  },
  {
   "cell_type": "code",
   "execution_count": null,
   "metadata": {},
   "outputs": [],
   "source": [
    "#chekcing if all tweets with images exist in the API table.\n",
    "len(tweets_with_image) == api_clean.tweet_id.isin(tweets_with_image).sum()"
   ]
  },
  {
   "cell_type": "code",
   "execution_count": null,
   "metadata": {},
   "outputs": [],
   "source": [
    "#Removing tweets without images.\n",
    "api_clean = api_clean[api_clean.tweet_id.isin(tweets_with_image)]"
   ]
  },
  {
   "cell_type": "code",
   "execution_count": null,
   "metadata": {},
   "outputs": [],
   "source": [
    "#Use the archive table to guide the selection and removal of tweets without images in the image_prediction.\n",
    "# creating a list of tweet_ids with images \"tweets_with_image\".\n",
    "tweets_with_image = list(archive_clean.tweet_id.unique())"
   ]
  },
  {
   "cell_type": "code",
   "execution_count": null,
   "metadata": {},
   "outputs": [],
   "source": [
    "#chekcing if all tweets with images exist in the image_prediction dataset\n",
    "len(tweets_with_image) == image_prediction_clean.tweet_id.isin(tweets_with_image).sum()"
   ]
  },
  {
   "cell_type": "code",
   "execution_count": null,
   "metadata": {},
   "outputs": [],
   "source": [
    "#Removing tweets without images.\n",
    "image_prediction_clean = image_prediction_clean[image_prediction_clean.tweet_id.isin(tweets_with_image)]"
   ]
  },
  {
   "cell_type": "code",
   "execution_count": null,
   "metadata": {},
   "outputs": [],
   "source": [
    "#Extract tweets that include data in the \"retweet_status_id\" column.\n",
    "retweet_entries = archive_clean.retweeted_status_id.notnull()\n",
    "archive_clean[retweet_entries].shape[0]"
   ]
  },
  {
   "cell_type": "code",
   "execution_count": null,
   "metadata": {},
   "outputs": [],
   "source": [
    "# Dropping the retweets from the archive data set\n",
    "archive_clean = archive_clean[~retweet_entries]"
   ]
  },
  {
   "cell_type": "code",
   "execution_count": null,
   "metadata": {},
   "outputs": [],
   "source": [
    "#Extract tweets that include data in the \"in_reply_to_status_id\" column.\n",
    "retweet_entries = archive_clean.in_reply_to_status_id.notnull()\n",
    "archive_clean[retweet_entries].shape[0]"
   ]
  },
  {
   "cell_type": "code",
   "execution_count": null,
   "metadata": {},
   "outputs": [],
   "source": [
    "# Dropping the replies from the archive data set\n",
    "archive_clean = archive_clean[~retweet_entries]"
   ]
  },
  {
   "cell_type": "code",
   "execution_count": null,
   "metadata": {},
   "outputs": [],
   "source": [
    "#check if image_prediction table have tweet ids not in the archive table\n",
    "np.logical_not(image_prediction_clean.tweet_id.isin(list(archive_clean.tweet_id)))"
   ]
  },
  {
   "cell_type": "code",
   "execution_count": null,
   "metadata": {},
   "outputs": [],
   "source": [
    "# Dropping the retweets and replies from the image prediction dataframe\n",
    "image_prediction_clean[~np.logical_not(image_prediction_clean.tweet_id.isin(list(archive_clean.tweet_id)))]"
   ]
  },
  {
   "cell_type": "code",
   "execution_count": null,
   "metadata": {},
   "outputs": [],
   "source": [
    "#Check if image_prediction table have tweet ids not in the API table\n",
    "np.logical_not(image_prediction_clean.tweet_id.isin(list(api_clean.tweet_id)))"
   ]
  },
  {
   "cell_type": "code",
   "execution_count": null,
   "metadata": {},
   "outputs": [],
   "source": [
    "#Dropping the retweets and replies from the API dataframe\n",
    "api_clean[~np.logical_not(api_clean.tweet_id.isin(list(archive_clean.tweet_id)))]"
   ]
  },
  {
   "cell_type": "markdown",
   "metadata": {},
   "source": [
    "#### Test"
   ]
  },
  {
   "cell_type": "code",
   "execution_count": null,
   "metadata": {},
   "outputs": [],
   "source": [
    "archive_clean.info()"
   ]
  },
  {
   "cell_type": "code",
   "execution_count": null,
   "metadata": {},
   "outputs": [],
   "source": [
    "image_prediction_clean.info()"
   ]
  },
  {
   "cell_type": "code",
   "execution_count": null,
   "metadata": {},
   "outputs": [],
   "source": [
    "api_clean.info()"
   ]
  },
  {
   "cell_type": "markdown",
   "metadata": {},
   "source": [
    "### 2.Define\n",
    "2. Drop unnecessary columns filled with missing values “in_reply_to_status_id”, “in_reply_to_user_id”, \"retweeted_status_id\", “retweeted_status_user_id”, “retweeted_status_timestamp”."
   ]
  },
  {
   "cell_type": "markdown",
   "metadata": {},
   "source": [
    "#### Code"
   ]
  },
  {
   "cell_type": "code",
   "execution_count": null,
   "metadata": {},
   "outputs": [],
   "source": [
    "archive_clean = archive_clean.drop(columns=['in_reply_to_status_id', \n",
    "                                                'in_reply_to_user_id', \n",
    "                                                'retweeted_status_id', \n",
    "                                                'retweeted_status_user_id', \n",
    "                                                'retweeted_status_timestamp'])"
   ]
  },
  {
   "cell_type": "markdown",
   "metadata": {},
   "source": [
    "#### Test"
   ]
  },
  {
   "cell_type": "code",
   "execution_count": null,
   "metadata": {},
   "outputs": [],
   "source": [
    "archive_clean.columns"
   ]
  },
  {
   "cell_type": "markdown",
   "metadata": {},
   "source": [
    "### 3.Define\n",
    "3. Convert invalid lowercase entries in \"name\" column to NaN."
   ]
  },
  {
   "cell_type": "markdown",
   "metadata": {},
   "source": [
    "#### Code"
   ]
  },
  {
   "cell_type": "code",
   "execution_count": null,
   "metadata": {
    "scrolled": true
   },
   "outputs": [],
   "source": [
    "#Check for lowercase entries in \"name\" column.\n",
    "pattern_2 = re.compile(r'(?:name(?:d)?)\\s{1}(?:is\\s)?([A-Za-z]+)')\n",
    "for index, row in archive_df.iterrows():  \n",
    "    if len(row['name']) < 3 and row['name'][0].islower():\n",
    "        print(row['name'])"
   ]
  },
  {
   "cell_type": "code",
   "execution_count": null,
   "metadata": {},
   "outputs": [],
   "source": [
    "#Check for lowercase entries in \"name\" column.\n",
    "pattern_2 = re.compile(r'(?:name(?:d)?)\\s{1}(?:is\\s)?([A-Za-z]+)')\n",
    "for index, row in archive_df.iterrows():  \n",
    "    if len(row['name']) > 3 and row['name'][0].islower():\n",
    "        print(row['name'])"
   ]
  },
  {
   "cell_type": "code",
   "execution_count": null,
   "metadata": {},
   "outputs": [],
   "source": [
    "#Replacing invalid lowercase entries with NaN.\n",
    "pattern_2 = re.compile(r'(?:name(?:d)?)\\s{1}(?:is\\s)?([A-Za-z]+)')\n",
    "for index, row in archive_clean.iterrows():  \n",
    "    try:\n",
    "        if row['name'] == \"a\":\n",
    "            c_name = re.findall(pattern_2, row['text'])[0]\n",
    "            archive_clean.loc[index,'name'] = archive_clean.loc[index,'name'].replace('a', c_name)\n",
    "        elif row['name'] == 'an':\n",
    "            c_name = re.findall(pattern_2, row['text'])[0]\n",
    "            archive_clean.loc[index,'name'] = archive_clean.loc[index,'name'].replace('an', c_name)\n",
    "        elif row['name'] == 'my':\n",
    "            c_name = re.findall(pattern_2, row['text'])[0]\n",
    "            archive_clean.loc[index,'name'] = archive_clean.loc[index,'name'].replace('my', c_name)\n",
    "        elif row['name'] == 'by':\n",
    "            c_name = re.findall(pattern_2, row['text'])[0]\n",
    "            archive_clean.loc[index,'name'] = archive_clean.loc[index,'name'].replace('by', c_name)\n",
    "        elif row['name'] == \"such\":\n",
    "            c_name = re.findall(pattern_2, row['text'])[0]\n",
    "            archive_clean.loc[index,'quite'] = archive_clean.loc[index,'name'].replace('such', c_name)\n",
    "        elif row['name'] == 'quite':\n",
    "            c_name = re.findall(pattern_2, row['text'])[0]\n",
    "            archive_clean.loc[index,'name'] = archive_clean.loc[index,'name'].replace('quite', c_name)\n",
    "        elif row['name'] == 'incredibly':\n",
    "            c_name = re.findall(pattern_2, row['text'])[0]\n",
    "            archive_clean.loc[index,'name'] = archive_clean.loc[index,'name'].replace('incredibly', c_name)\n",
    "        elif row['name'] == 'very':\n",
    "            c_name = re.findall(pattern_2, row['text'])[0]\n",
    "            archive_clean.loc[index,'name'] = archive_clean.loc[index,'name'].replace('very', c_name)\n",
    "        elif row['name'] == 'just':\n",
    "            c_name = re.findall(pattern_2, row['text'])[0]\n",
    "            archive_clean.loc[index,'name'] = archive_clean.loc[index,'name'].replace('just', c_name)\n",
    "        elif row['name'] == 'actually':\n",
    "            c_name = re.findall(pattern_2, row['text'])[0]\n",
    "            archive_clean.loc[index,'name'] = archive_clean.loc[index,'name'].replace('actually', c_name)\n",
    "        elif row['name'] == 'getting':\n",
    "            c_name = re.findall(pattern_2, row['text'])[0]\n",
    "            archive_clean.loc[index,'name'] = archive_clean.loc[index,'name'].replace('getting', c_name)\n",
    "        elif row['name'] == 'this':\n",
    "            c_name = re.findall(pattern_2, row['text'])[0]\n",
    "            archive_clean.loc[index,'name'] = archive_clean.loc[index,'name'].replace('this', c_name)\n",
    "        elif row['name'] == 'unacceptable':\n",
    "            c_name = re.findall(pattern_2, row['text'])[0]\n",
    "            archive_clean.loc[index,'name'] = archive_clean.loc[index,'name'].replace('unacceptable', c_name)\n",
    "        elif row['name'] == 'infuriating':\n",
    "            c_name = re.findall(pattern_2, row['text'])[0]\n",
    "            archive_clean.loc[index,'name'] = archive_clean.loc[index,'name'].replace('infuriating', c_name)\n",
    "        elif row['name'] == 'officially':\n",
    "            c_name = re.findall(pattern_2, row['text'])[0]\n",
    "            archive_clean.loc[index,'name'] = archive_clean.loc[index,'name'].replace('officially', c_name)\n",
    "        elif row['name'] == 'life':\n",
    "            c_name = re.findall(pattern_2, row['text'])[0]\n",
    "            archive_clean.loc[index,'name'] = archive_clean.loc[index,'name'].replace('life', c_name)\n",
    "        elif row['name'] == 'light':\n",
    "            c_name = re.findall(pattern_2, row['text'])[0]\n",
    "            archive_clean.loc[index,'name'] = archive_clean.loc[index,'name'].replace('light', c_name)\n",
    "        elif row['name'] == 'space':\n",
    "            c_name = re.findall(pattern_2, row['text'])[0]\n",
    "            archive_clean.loc[index,'name'] = archive_clean.loc[index,'name'].replace('space', c_name)\n",
    "    except IndexError:\n",
    "        archive_clean.loc[index,'name'] = np.nan"
   ]
  },
  {
   "cell_type": "markdown",
   "metadata": {},
   "source": [
    "#### Test"
   ]
  },
  {
   "cell_type": "code",
   "execution_count": null,
   "metadata": {},
   "outputs": [],
   "source": [
    "archive_clean.name.value_counts(dropna = False)"
   ]
  },
  {
   "cell_type": "markdown",
   "metadata": {},
   "source": [
    "### 4.Define\n",
    "4. Replacing the string \"None\" in the 4 dog stage columns with empty string \"\" so merging the 4 columns will be smooth while fixing its tidiness."
   ]
  },
  {
   "cell_type": "markdown",
   "metadata": {},
   "source": [
    "##### Code"
   ]
  },
  {
   "cell_type": "code",
   "execution_count": null,
   "metadata": {},
   "outputs": [],
   "source": [
    "archive_clean.iloc[:, -4:  ] = archive_clean.iloc[:, -4:  ].replace(\"None\",\"\")"
   ]
  },
  {
   "cell_type": "markdown",
   "metadata": {},
   "source": [
    "#### Test"
   ]
  },
  {
   "cell_type": "code",
   "execution_count": null,
   "metadata": {
    "scrolled": true
   },
   "outputs": [],
   "source": [
    "archive_clean.iloc[:, -4:  ].value_counts()"
   ]
  },
  {
   "cell_type": "markdown",
   "metadata": {},
   "source": [
    "# 5.Define\n",
    "5. Modifying decimal 'rating_numerators' to be valid."
   ]
  },
  {
   "cell_type": "markdown",
   "metadata": {},
   "source": [
    "##### Code"
   ]
  },
  {
   "cell_type": "code",
   "execution_count": null,
   "metadata": {
    "scrolled": true
   },
   "outputs": [],
   "source": [
    "archive_clean[archive_clean['rating_numerator'] > 15].rating_numerator.value_counts()"
   ]
  },
  {
   "cell_type": "code",
   "execution_count": null,
   "metadata": {},
   "outputs": [],
   "source": [
    "archive_clean[archive_clean['rating_numerator'] > 15].text"
   ]
  },
  {
   "cell_type": "code",
   "execution_count": null,
   "metadata": {
    "scrolled": false
   },
   "outputs": [],
   "source": [
    "#Checking rows that have decimal numerators.\n",
    "archive_clean[archive_clean.text.str.contains(r\"(\\d+\\.\\d*\\/\\d+)\")][['tweet_id', 'text', 'rating_numerator']]"
   ]
  },
  {
   "cell_type": "code",
   "execution_count": null,
   "metadata": {},
   "outputs": [],
   "source": [
    "#Change Datatype of rating_numerator from int to float.\n",
    "archive_clean['rating_numerator']= archive_clean['rating_numerator'].astype(float)"
   ]
  },
  {
   "cell_type": "code",
   "execution_count": null,
   "metadata": {},
   "outputs": [],
   "source": [
    "#Extracting decimal numerator and assign it to \"rating_numerator\" column.\n",
    "archive_clean['rating_numerator'] = archive_clean.text.str.extract('(\\d+\\.?\\d?\\d?)\\/\\d{1,3}', expand = False).astype('float')"
   ]
  },
  {
   "cell_type": "markdown",
   "metadata": {},
   "source": [
    "#### Test"
   ]
  },
  {
   "cell_type": "code",
   "execution_count": null,
   "metadata": {
    "scrolled": false
   },
   "outputs": [],
   "source": [
    "#Checking \"rating_numerator\" column after assigning the correct numerator.\n",
    "archive_clean[archive_clean.text.str.contains(r\"(\\d+\\.\\d*\\/\\d+)\")][['tweet_id','text', 'rating_numerator']]"
   ]
  },
  {
   "cell_type": "markdown",
   "metadata": {},
   "source": [
    "# 6.Define\n",
    "6. Replace entries that it dosn't contain rating at all by missing values."
   ]
  },
  {
   "cell_type": "markdown",
   "metadata": {},
   "source": [
    "##### Code"
   ]
  },
  {
   "cell_type": "code",
   "execution_count": null,
   "metadata": {},
   "outputs": [],
   "source": [
    "#Checking for other extreme values in numerators.\n",
    "archive_clean[archive_clean['rating_numerator'] > 15].rating_numerator.value_counts()"
   ]
  },
  {
   "cell_type": "code",
   "execution_count": null,
   "metadata": {},
   "outputs": [],
   "source": [
    "archive_clean[archive_clean['rating_numerator'] > 15].text"
   ]
  },
  {
   "cell_type": "code",
   "execution_count": null,
   "metadata": {
    "scrolled": false
   },
   "outputs": [],
   "source": [
    "#After checking every tweet, found 3 tweets got no ratings at all so they will be replaced with missing values np.nan.\n",
    "archive_clean.loc[archive_clean['rating_numerator'] == 24]"
   ]
  },
  {
   "cell_type": "code",
   "execution_count": null,
   "metadata": {},
   "outputs": [],
   "source": [
    "archive_clean.loc[archive_clean['rating_numerator'] == 420]"
   ]
  },
  {
   "cell_type": "code",
   "execution_count": null,
   "metadata": {},
   "outputs": [],
   "source": [
    "archive_clean.loc[archive_clean['rating_numerator'] == 1776]"
   ]
  },
  {
   "cell_type": "code",
   "execution_count": null,
   "metadata": {},
   "outputs": [],
   "source": [
    "#Replacing invalid ratings of the 3 tweets with missing values using np.nan.\n",
    "archive_clean.loc[archive_clean.rating_numerator.isin([1776, 24, 420]), ['rating_numerator', 'rating_denominator']] = np.nan"
   ]
  },
  {
   "cell_type": "markdown",
   "metadata": {},
   "source": [
    "#### Test"
   ]
  },
  {
   "cell_type": "code",
   "execution_count": null,
   "metadata": {
    "scrolled": true
   },
   "outputs": [],
   "source": [
    "archive_clean.loc[archive_clean['tweet_id'] == 810984652412424192 ]"
   ]
  },
  {
   "cell_type": "code",
   "execution_count": null,
   "metadata": {},
   "outputs": [],
   "source": [
    "archive_clean.loc[archive_clean['tweet_id'] == 670842764863651840 ]"
   ]
  },
  {
   "cell_type": "code",
   "execution_count": null,
   "metadata": {},
   "outputs": [],
   "source": [
    "archive_clean.loc[archive_clean['tweet_id'] == 749981277374128128 ]"
   ]
  },
  {
   "cell_type": "markdown",
   "metadata": {},
   "source": [
    "# 7.Define\n",
    "7. Modifying ratings that is multiplied by the number of dogs in pictuers."
   ]
  },
  {
   "cell_type": "markdown",
   "metadata": {},
   "source": [
    "##### Code"
   ]
  },
  {
   "cell_type": "code",
   "execution_count": null,
   "metadata": {},
   "outputs": [],
   "source": [
    "archive_clean[archive_clean['rating_numerator'] > 15].text"
   ]
  },
  {
   "cell_type": "code",
   "execution_count": null,
   "metadata": {},
   "outputs": [],
   "source": [
    "# Calculating the dogs counts in the tweets featuring many dogs\n",
    "dogs_count = archive_clean.rating_denominator[ archive_clean.rating_numerator >= 40 ]/10"
   ]
  },
  {
   "cell_type": "code",
   "execution_count": null,
   "metadata": {},
   "outputs": [],
   "source": [
    "# Check the dog_count with their indices:\n",
    "print(dogs_count)"
   ]
  },
  {
   "cell_type": "code",
   "execution_count": null,
   "metadata": {
    "scrolled": true
   },
   "outputs": [],
   "source": [
    "# Performing the Calculations\n",
    "archive_clean.loc[archive_clean.rating_numerator >= 40, ['rating_numerator', 'rating_denominator']] = [archive_clean.rating_numerator[archive_clean.rating_numerator >= 40]/dogs_count , 10]"
   ]
  },
  {
   "cell_type": "markdown",
   "metadata": {},
   "source": [
    "#### Test"
   ]
  },
  {
   "cell_type": "code",
   "execution_count": null,
   "metadata": {
    "scrolled": false
   },
   "outputs": [],
   "source": [
    "archive_clean[archive_clean['rating_numerator'] > 15].rating_numerator.value_counts()"
   ]
  },
  {
   "cell_type": "markdown",
   "metadata": {},
   "source": [
    "# 8.Define\n",
    "8. Assign all denominator ratings to be equal to 10."
   ]
  },
  {
   "cell_type": "markdown",
   "metadata": {},
   "source": [
    "##### Code"
   ]
  },
  {
   "cell_type": "code",
   "execution_count": null,
   "metadata": {},
   "outputs": [],
   "source": [
    "archive_clean[archive_clean['rating_denominator'] != 10].rating_denominator"
   ]
  },
  {
   "cell_type": "code",
   "execution_count": null,
   "metadata": {},
   "outputs": [],
   "source": [
    "archive_clean[archive_clean['rating_denominator'] != 10].text"
   ]
  },
  {
   "cell_type": "code",
   "execution_count": null,
   "metadata": {},
   "outputs": [],
   "source": [
    "archive_clean['rating_denominator'] = archive_clean['rating_denominator'].replace([11], 10)"
   ]
  },
  {
   "cell_type": "code",
   "execution_count": null,
   "metadata": {},
   "outputs": [],
   "source": [
    "archive_clean['rating_denominator'] = archive_clean['rating_denominator'].replace([20], 10)"
   ]
  },
  {
   "cell_type": "code",
   "execution_count": null,
   "metadata": {},
   "outputs": [],
   "source": [
    "archive_clean['rating_denominator'] = archive_clean['rating_denominator'].replace([2], 10)"
   ]
  },
  {
   "cell_type": "markdown",
   "metadata": {},
   "source": [
    "##### Test"
   ]
  },
  {
   "cell_type": "code",
   "execution_count": null,
   "metadata": {},
   "outputs": [],
   "source": [
    "archive_clean[archive_clean['rating_denominator'] != 10].rating_denominator"
   ]
  },
  {
   "cell_type": "code",
   "execution_count": null,
   "metadata": {},
   "outputs": [],
   "source": [
    "archive_clean.rating_denominator.value_counts()"
   ]
  },
  {
   "cell_type": "code",
   "execution_count": null,
   "metadata": {},
   "outputs": [],
   "source": [
    "archive_clean[archive_clean['rating_denominator'] != 10].text"
   ]
  },
  {
   "cell_type": "markdown",
   "metadata": {},
   "source": [
    "# 9.Define\n",
    "9. Correcting rating_numerator less than 6 that their actual ratings inside the text."
   ]
  },
  {
   "cell_type": "markdown",
   "metadata": {},
   "source": [
    "##### Code"
   ]
  },
  {
   "cell_type": "code",
   "execution_count": null,
   "metadata": {
    "scrolled": true
   },
   "outputs": [],
   "source": [
    "archive_clean[archive_clean['rating_numerator'] < 6].rating_numerator.value_counts()"
   ]
  },
  {
   "cell_type": "code",
   "execution_count": null,
   "metadata": {},
   "outputs": [],
   "source": [
    "archive_clean.loc[archive_clean['rating_numerator'] < 6]"
   ]
  },
  {
   "cell_type": "code",
   "execution_count": null,
   "metadata": {
    "scrolled": true
   },
   "outputs": [],
   "source": [
    "archive_clean.loc[archive_clean['tweet_id'] == 722974582966214656]"
   ]
  },
  {
   "cell_type": "code",
   "execution_count": null,
   "metadata": {},
   "outputs": [],
   "source": [
    "archive_clean.loc[archive_clean['tweet_id'] == 674646392044941312]"
   ]
  },
  {
   "cell_type": "code",
   "execution_count": null,
   "metadata": {
    "scrolled": true
   },
   "outputs": [],
   "source": [
    "archive_clean.loc[archive_clean['tweet_id'] == 666287406224695296]"
   ]
  },
  {
   "cell_type": "code",
   "execution_count": null,
   "metadata": {},
   "outputs": [],
   "source": [
    "archive_clean.loc[(archive_clean.tweet_id == 722974582966214656),'rating_numerator'] = 13"
   ]
  },
  {
   "cell_type": "code",
   "execution_count": null,
   "metadata": {},
   "outputs": [],
   "source": [
    "archive_clean.loc[(archive_clean.tweet_id == 674646392044941312),'rating_numerator'] = 8"
   ]
  },
  {
   "cell_type": "code",
   "execution_count": null,
   "metadata": {},
   "outputs": [],
   "source": [
    "archive_clean.loc[(archive_clean.tweet_id == 666287406224695296),'rating_numerator'] = 9"
   ]
  },
  {
   "cell_type": "markdown",
   "metadata": {},
   "source": [
    "#### Test"
   ]
  },
  {
   "cell_type": "code",
   "execution_count": null,
   "metadata": {},
   "outputs": [],
   "source": [
    "archive_clean.loc[archive_clean['tweet_id'] == 722974582966214656]"
   ]
  },
  {
   "cell_type": "code",
   "execution_count": null,
   "metadata": {},
   "outputs": [],
   "source": [
    "archive_clean.loc[archive_clean['tweet_id'] == 674646392044941312]"
   ]
  },
  {
   "cell_type": "code",
   "execution_count": null,
   "metadata": {
    "scrolled": true
   },
   "outputs": [],
   "source": [
    "archive_clean.loc[archive_clean['tweet_id'] == 666287406224695296]"
   ]
  },
  {
   "cell_type": "markdown",
   "metadata": {},
   "source": [
    "### 10.Define:\n",
    "10. Remove \"+0000\" from 'timestamp' column."
   ]
  },
  {
   "cell_type": "markdown",
   "metadata": {},
   "source": [
    "#### Code"
   ]
  },
  {
   "cell_type": "code",
   "execution_count": null,
   "metadata": {},
   "outputs": [],
   "source": [
    "archive_clean.timestamp = archive_clean.timestamp.str.strip('+0000')"
   ]
  },
  {
   "cell_type": "markdown",
   "metadata": {},
   "source": [
    "#### Test"
   ]
  },
  {
   "cell_type": "code",
   "execution_count": null,
   "metadata": {},
   "outputs": [],
   "source": [
    "archive_clean.head()"
   ]
  },
  {
   "cell_type": "markdown",
   "metadata": {},
   "source": [
    "### 11.Define:\n",
    "11. Convert tweet_id data type in archive_clean, image_prediction_clean, and api_clean.\n",
    "  - Convert data type of 'timestamp' to datetime"
   ]
  },
  {
   "cell_type": "markdown",
   "metadata": {},
   "source": [
    "#### Code"
   ]
  },
  {
   "cell_type": "code",
   "execution_count": null,
   "metadata": {
    "scrolled": false
   },
   "outputs": [],
   "source": [
    "archive_clean.tweet_id = archive_clean.tweet_id.astype(str)"
   ]
  },
  {
   "cell_type": "code",
   "execution_count": null,
   "metadata": {},
   "outputs": [],
   "source": [
    "image_prediction_clean.tweet_id = image_prediction_clean.tweet_id.astype(str)"
   ]
  },
  {
   "cell_type": "code",
   "execution_count": null,
   "metadata": {},
   "outputs": [],
   "source": [
    "api_clean.tweet_id = api_clean.tweet_id.astype(str)"
   ]
  },
  {
   "cell_type": "code",
   "execution_count": null,
   "metadata": {},
   "outputs": [],
   "source": [
    "archive_clean.timestamp = pd.to_datetime(archive_clean.timestamp)"
   ]
  },
  {
   "cell_type": "markdown",
   "metadata": {},
   "source": [
    "#### Test"
   ]
  },
  {
   "cell_type": "code",
   "execution_count": null,
   "metadata": {},
   "outputs": [],
   "source": [
    "archive_clean.tweet_id.head()"
   ]
  },
  {
   "cell_type": "code",
   "execution_count": null,
   "metadata": {
    "scrolled": true
   },
   "outputs": [],
   "source": [
    "image_prediction_clean.tweet_id.head()"
   ]
  },
  {
   "cell_type": "code",
   "execution_count": null,
   "metadata": {
    "scrolled": false
   },
   "outputs": [],
   "source": [
    "api_clean.tweet_id.head()"
   ]
  },
  {
   "cell_type": "code",
   "execution_count": null,
   "metadata": {},
   "outputs": [],
   "source": [
    "archive_clean.timestamp.head()"
   ]
  },
  {
   "cell_type": "markdown",
   "metadata": {},
   "source": [
    "### 12.Define:\n",
    "12. Extract HTML link from the content of 'source' column to make it more readable."
   ]
  },
  {
   "cell_type": "markdown",
   "metadata": {},
   "source": [
    "#### Code"
   ]
  },
  {
   "cell_type": "code",
   "execution_count": null,
   "metadata": {},
   "outputs": [],
   "source": [
    "archive_clean.source=archive_clean.source.apply(lambda x: re.findall(r'>(.*)<', x)[0])"
   ]
  },
  {
   "cell_type": "markdown",
   "metadata": {},
   "source": [
    "#### Test"
   ]
  },
  {
   "cell_type": "code",
   "execution_count": null,
   "metadata": {},
   "outputs": [],
   "source": [
    "archive_clean.source.value_counts()"
   ]
  },
  {
   "cell_type": "code",
   "execution_count": null,
   "metadata": {},
   "outputs": [],
   "source": [
    "archive_clean.head()"
   ]
  },
  {
   "cell_type": "markdown",
   "metadata": {},
   "source": [
    "### 13.Define:\n",
    "13. Remove duplicates in 'expanded_urls' column."
   ]
  },
  {
   "cell_type": "markdown",
   "metadata": {},
   "source": [
    "#### Code"
   ]
  },
  {
   "cell_type": "code",
   "execution_count": null,
   "metadata": {},
   "outputs": [],
   "source": [
    "archive_clean.expanded_urls = archive_clean.expanded_urls.str.split(\",\", expand=True)[0]"
   ]
  },
  {
   "cell_type": "markdown",
   "metadata": {},
   "source": [
    "#### Test"
   ]
  },
  {
   "cell_type": "code",
   "execution_count": null,
   "metadata": {},
   "outputs": [],
   "source": [
    "archive_clean.head()"
   ]
  },
  {
   "cell_type": "markdown",
   "metadata": {},
   "source": [
    "# Quality Issues: `Image Predictions`"
   ]
  },
  {
   "cell_type": "markdown",
   "metadata": {},
   "source": [
    "#### 14.Define:\n",
    "14. Rename columns of image_predections dataset to be more descriptive"
   ]
  },
  {
   "cell_type": "markdown",
   "metadata": {},
   "source": [
    "##### Code"
   ]
  },
  {
   "cell_type": "code",
   "execution_count": null,
   "metadata": {},
   "outputs": [],
   "source": [
    "cols = ['tweet_id', 'jpg_url', 'img_num', \n",
    "       'prediction_1', 'confidence_1', 'breed_1',\n",
    "       'prediction_2', 'confidence_2', 'breed_2',\n",
    "       'prediction_3', 'confidence_3', 'breed_3']\n",
    "image_prediction_clean.columns = cols"
   ]
  },
  {
   "cell_type": "markdown",
   "metadata": {},
   "source": [
    "##### Test"
   ]
  },
  {
   "cell_type": "code",
   "execution_count": null,
   "metadata": {
    "scrolled": true
   },
   "outputs": [],
   "source": [
    "image_prediction_clean.head()"
   ]
  },
  {
   "cell_type": "markdown",
   "metadata": {},
   "source": [
    "#### 15.Define:\n",
    "15. Remove duplicated urls in 'jpg_url' column."
   ]
  },
  {
   "cell_type": "markdown",
   "metadata": {},
   "source": [
    "##### Code"
   ]
  },
  {
   "cell_type": "code",
   "execution_count": null,
   "metadata": {},
   "outputs": [],
   "source": [
    "image_prediction_clean = image_prediction_clean.drop_duplicates(subset=['jpg_url'], keep='last')"
   ]
  },
  {
   "cell_type": "markdown",
   "metadata": {},
   "source": [
    "##### Test"
   ]
  },
  {
   "cell_type": "code",
   "execution_count": null,
   "metadata": {},
   "outputs": [],
   "source": [
    "sum(image_prediction_clean['jpg_url'].duplicated())"
   ]
  },
  {
   "cell_type": "markdown",
   "metadata": {},
   "source": [
    "# Tidiness Issues `Twitter archive`"
   ]
  },
  {
   "cell_type": "markdown",
   "metadata": {},
   "source": [
    "### 1.Define:\n",
    "1. Combine the 4 dog stage columns into a single column in the archive table."
   ]
  },
  {
   "cell_type": "markdown",
   "metadata": {},
   "source": [
    "##### Code"
   ]
  },
  {
   "cell_type": "code",
   "execution_count": null,
   "metadata": {},
   "outputs": [],
   "source": [
    "archive_clean['dog_stage'] = archive_clean['doggo'] + archive_clean['floofer'] + archive_clean['pupper'] + archive_clean['puppo']"
   ]
  },
  {
   "cell_type": "code",
   "execution_count": null,
   "metadata": {},
   "outputs": [],
   "source": [
    "#Droping 4 dog stage columns after merging them in one column.\n",
    "archive_clean = archive_clean.drop(columns=['doggo', 'floofer', 'pupper','puppo'])"
   ]
  },
  {
   "cell_type": "code",
   "execution_count": null,
   "metadata": {},
   "outputs": [],
   "source": [
    "##checking which rows contains multiple stages and add separator between the stages.\n",
    "archive_clean.loc[archive_clean.dog_stage == 'doggopupper', 'dog_stage'] = 'doggo-pupper'"
   ]
  },
  {
   "cell_type": "code",
   "execution_count": null,
   "metadata": {},
   "outputs": [],
   "source": [
    "archive_clean.loc[archive_clean.dog_stage == 'doggofloofer', 'dog_stage'] = 'doggo-floofer'"
   ]
  },
  {
   "cell_type": "code",
   "execution_count": null,
   "metadata": {},
   "outputs": [],
   "source": [
    "archive_clean.loc[archive_clean.dog_stage == 'doggopuppo', 'dog_stage'] = 'doggo-puppo'"
   ]
  },
  {
   "cell_type": "code",
   "execution_count": null,
   "metadata": {},
   "outputs": [],
   "source": [
    "#Replace the empty strings with np.nan\n",
    "archive_clean.dog_stage =archive_clean.dog_stage.replace('' ,np.nan)"
   ]
  },
  {
   "cell_type": "markdown",
   "metadata": {},
   "source": [
    "#### Test"
   ]
  },
  {
   "cell_type": "code",
   "execution_count": null,
   "metadata": {},
   "outputs": [],
   "source": [
    "#checking the new dog_stage column\n",
    "archive_clean.head()"
   ]
  },
  {
   "cell_type": "code",
   "execution_count": null,
   "metadata": {},
   "outputs": [],
   "source": [
    "#check for the separation of classifications\n",
    "archive_clean.dog_stage.value_counts()"
   ]
  },
  {
   "cell_type": "markdown",
   "metadata": {},
   "source": [
    "# Tidiness Issues `Image Predictions`"
   ]
  },
  {
   "cell_type": "markdown",
   "metadata": {},
   "source": [
    "### 2.Define:\n",
    "2. Reshape Image Predictions from wide to long."
   ]
  },
  {
   "cell_type": "markdown",
   "metadata": {},
   "source": [
    "##### Code"
   ]
  },
  {
   "cell_type": "code",
   "execution_count": null,
   "metadata": {},
   "outputs": [],
   "source": [
    "# Reshape the dataframe\n",
    "image_prediction_clean = pd.wide_to_long(image_prediction_clean, stubnames=['prediction', 'confidence', 'breed'], \n",
    "    i=['tweet_id', 'jpg_url', 'img_num'], j='prediction_level', sep=\"_\").reset_index()"
   ]
  },
  {
   "cell_type": "markdown",
   "metadata": {},
   "source": [
    "#### Test"
   ]
  },
  {
   "cell_type": "code",
   "execution_count": null,
   "metadata": {
    "scrolled": true
   },
   "outputs": [],
   "source": [
    "image_prediction_clean"
   ]
  },
  {
   "cell_type": "markdown",
   "metadata": {},
   "source": [
    "# Tidiness Issues `Image Predictions`"
   ]
  },
  {
   "cell_type": "markdown",
   "metadata": {},
   "source": [
    "### 3.Define:\n",
    "3. Merge cleaned Twitter API Data and cleaned archive data table into single data frame.\n",
    "Merge all 3 datasets into 1 final dataset instead of 2 datasets."
   ]
  },
  {
   "cell_type": "markdown",
   "metadata": {},
   "source": [
    "##### Code"
   ]
  },
  {
   "cell_type": "code",
   "execution_count": null,
   "metadata": {},
   "outputs": [],
   "source": [
    "#Merge cleaned archive with cleaned API data to able to analyse.\n",
    "combined_df = pd.merge(archive_clean, api_clean, on='tweet_id' )"
   ]
  },
  {
   "cell_type": "code",
   "execution_count": null,
   "metadata": {},
   "outputs": [],
   "source": [
    "#Merge combined df with cleaned image predictions data to able to analyse.\n",
    "master_df = pd.merge(combined_df, image_prediction_clean, on='tweet_id' )"
   ]
  },
  {
   "cell_type": "markdown",
   "metadata": {},
   "source": [
    "##### Test"
   ]
  },
  {
   "cell_type": "code",
   "execution_count": null,
   "metadata": {
    "scrolled": true
   },
   "outputs": [],
   "source": [
    "combined_df.head(1)"
   ]
  },
  {
   "cell_type": "code",
   "execution_count": null,
   "metadata": {},
   "outputs": [],
   "source": [
    "master_df.head(1)"
   ]
  },
  {
   "cell_type": "markdown",
   "metadata": {},
   "source": [
    "# Storing, Analyzing, and Visualizing Data "
   ]
  },
  {
   "cell_type": "code",
   "execution_count": null,
   "metadata": {},
   "outputs": [],
   "source": [
    "# Merge all 3 datasets into 1 final dataset and store them in CSV file with name 'twitter_archive_master.csv'\n",
    "master_df.to_csv('twitter_archive_master.csv', index=False)"
   ]
  },
  {
   "cell_type": "code",
   "execution_count": null,
   "metadata": {},
   "outputs": [],
   "source": [
    "master_df.columns"
   ]
  },
  {
   "cell_type": "code",
   "execution_count": null,
   "metadata": {},
   "outputs": [],
   "source": [
    "master_df.head(1)"
   ]
  },
  {
   "cell_type": "markdown",
   "metadata": {},
   "source": [
    "###  Analyzing master data frame."
   ]
  },
  {
   "cell_type": "code",
   "execution_count": null,
   "metadata": {},
   "outputs": [],
   "source": [
    "combined_df.head()"
   ]
  },
  {
   "cell_type": "code",
   "execution_count": null,
   "metadata": {},
   "outputs": [],
   "source": [
    "combined_df.shape"
   ]
  },
  {
   "cell_type": "code",
   "execution_count": null,
   "metadata": {
    "scrolled": true
   },
   "outputs": [],
   "source": [
    "combined_df.info()"
   ]
  },
  {
   "cell_type": "code",
   "execution_count": null,
   "metadata": {},
   "outputs": [],
   "source": [
    "combined_df.describe()"
   ]
  },
  {
   "cell_type": "code",
   "execution_count": null,
   "metadata": {},
   "outputs": [],
   "source": [
    "master_df.describe()"
   ]
  },
  {
   "cell_type": "markdown",
   "metadata": {},
   "source": [
    "# Visualizing Data :"
   ]
  },
  {
   "cell_type": "markdown",
   "metadata": {},
   "source": [
    "### Insight 1: (With Visualization)\n",
    " - Most Common Dog breed in all tweets."
   ]
  },
  {
   "cell_type": "code",
   "execution_count": null,
   "metadata": {},
   "outputs": [],
   "source": []
  },
  {
   "cell_type": "code",
   "execution_count": 157,
   "metadata": {},
   "outputs": [
    {
     "data": {
      "text/html": [
       "<div>\n",
       "<style scoped>\n",
       "    .dataframe tbody tr th:only-of-type {\n",
       "        vertical-align: middle;\n",
       "    }\n",
       "\n",
       "    .dataframe tbody tr th {\n",
       "        vertical-align: top;\n",
       "    }\n",
       "\n",
       "    .dataframe thead th {\n",
       "        text-align: right;\n",
       "    }\n",
       "</style>\n",
       "<table border=\"1\" class=\"dataframe\">\n",
       "  <thead>\n",
       "    <tr style=\"text-align: right;\">\n",
       "      <th></th>\n",
       "      <th>tweet_id</th>\n",
       "      <th>timestamp</th>\n",
       "      <th>source</th>\n",
       "      <th>text</th>\n",
       "      <th>expanded_urls</th>\n",
       "      <th>rating_numerator</th>\n",
       "      <th>rating_denominator</th>\n",
       "      <th>name</th>\n",
       "      <th>dog_stage</th>\n",
       "      <th>retweet_count</th>\n",
       "      <th>favorite_count</th>\n",
       "      <th>jpg_url</th>\n",
       "      <th>img_num</th>\n",
       "      <th>prediction_level</th>\n",
       "      <th>prediction</th>\n",
       "      <th>confidence</th>\n",
       "      <th>breed</th>\n",
       "    </tr>\n",
       "  </thead>\n",
       "  <tbody>\n",
       "    <tr>\n",
       "      <th>0</th>\n",
       "      <td>892420643555336193</td>\n",
       "      <td>2017-08-01 16:23:56</td>\n",
       "      <td>Twitter for iPhone</td>\n",
       "      <td>This is Phineas. He's a mystical boy. Only ever appears in the hole of a donut. 13/10 https://t.co/MgUWQ76dJU</td>\n",
       "      <td>https://twitter.com/dog_rates/status/892420643555336193/photo/1</td>\n",
       "      <td>13.0</td>\n",
       "      <td>10.0</td>\n",
       "      <td>Phineas</td>\n",
       "      <td>NaN</td>\n",
       "      <td>7428</td>\n",
       "      <td>35177</td>\n",
       "      <td>https://pbs.twimg.com/media/DGKD1-bXoAAIAUK.jpg</td>\n",
       "      <td>1</td>\n",
       "      <td>1</td>\n",
       "      <td>orange</td>\n",
       "      <td>0.097049</td>\n",
       "      <td>False</td>\n",
       "    </tr>\n",
       "    <tr>\n",
       "      <th>1</th>\n",
       "      <td>892420643555336193</td>\n",
       "      <td>2017-08-01 16:23:56</td>\n",
       "      <td>Twitter for iPhone</td>\n",
       "      <td>This is Phineas. He's a mystical boy. Only ever appears in the hole of a donut. 13/10 https://t.co/MgUWQ76dJU</td>\n",
       "      <td>https://twitter.com/dog_rates/status/892420643555336193/photo/1</td>\n",
       "      <td>13.0</td>\n",
       "      <td>10.0</td>\n",
       "      <td>Phineas</td>\n",
       "      <td>NaN</td>\n",
       "      <td>7428</td>\n",
       "      <td>35177</td>\n",
       "      <td>https://pbs.twimg.com/media/DGKD1-bXoAAIAUK.jpg</td>\n",
       "      <td>1</td>\n",
       "      <td>2</td>\n",
       "      <td>bagel</td>\n",
       "      <td>0.085851</td>\n",
       "      <td>False</td>\n",
       "    </tr>\n",
       "    <tr>\n",
       "      <th>2</th>\n",
       "      <td>892420643555336193</td>\n",
       "      <td>2017-08-01 16:23:56</td>\n",
       "      <td>Twitter for iPhone</td>\n",
       "      <td>This is Phineas. He's a mystical boy. Only ever appears in the hole of a donut. 13/10 https://t.co/MgUWQ76dJU</td>\n",
       "      <td>https://twitter.com/dog_rates/status/892420643555336193/photo/1</td>\n",
       "      <td>13.0</td>\n",
       "      <td>10.0</td>\n",
       "      <td>Phineas</td>\n",
       "      <td>NaN</td>\n",
       "      <td>7428</td>\n",
       "      <td>35177</td>\n",
       "      <td>https://pbs.twimg.com/media/DGKD1-bXoAAIAUK.jpg</td>\n",
       "      <td>1</td>\n",
       "      <td>3</td>\n",
       "      <td>banana</td>\n",
       "      <td>0.076110</td>\n",
       "      <td>False</td>\n",
       "    </tr>\n",
       "    <tr>\n",
       "      <th>3</th>\n",
       "      <td>892177421306343426</td>\n",
       "      <td>2017-08-01 00:17:27</td>\n",
       "      <td>Twitter for iPhone</td>\n",
       "      <td>This is Tilly. She's just checking pup on you. Hopes you're doing ok. If not, she's available for pats, snugs, boops, the whole bit. 13/10 https://t.co/0Xxu71qeIV</td>\n",
       "      <td>https://twitter.com/dog_rates/status/892177421306343426/photo/1</td>\n",
       "      <td>13.0</td>\n",
       "      <td>10.0</td>\n",
       "      <td>Tilly</td>\n",
       "      <td>NaN</td>\n",
       "      <td>5521</td>\n",
       "      <td>30446</td>\n",
       "      <td>https://pbs.twimg.com/media/DGGmoV4XsAAUL6n.jpg</td>\n",
       "      <td>1</td>\n",
       "      <td>1</td>\n",
       "      <td>Chihuahua</td>\n",
       "      <td>0.323581</td>\n",
       "      <td>True</td>\n",
       "    </tr>\n",
       "    <tr>\n",
       "      <th>4</th>\n",
       "      <td>892177421306343426</td>\n",
       "      <td>2017-08-01 00:17:27</td>\n",
       "      <td>Twitter for iPhone</td>\n",
       "      <td>This is Tilly. She's just checking pup on you. Hopes you're doing ok. If not, she's available for pats, snugs, boops, the whole bit. 13/10 https://t.co/0Xxu71qeIV</td>\n",
       "      <td>https://twitter.com/dog_rates/status/892177421306343426/photo/1</td>\n",
       "      <td>13.0</td>\n",
       "      <td>10.0</td>\n",
       "      <td>Tilly</td>\n",
       "      <td>NaN</td>\n",
       "      <td>5521</td>\n",
       "      <td>30446</td>\n",
       "      <td>https://pbs.twimg.com/media/DGGmoV4XsAAUL6n.jpg</td>\n",
       "      <td>1</td>\n",
       "      <td>2</td>\n",
       "      <td>Pekinese</td>\n",
       "      <td>0.090647</td>\n",
       "      <td>True</td>\n",
       "    </tr>\n",
       "    <tr>\n",
       "      <th>...</th>\n",
       "      <td>...</td>\n",
       "      <td>...</td>\n",
       "      <td>...</td>\n",
       "      <td>...</td>\n",
       "      <td>...</td>\n",
       "      <td>...</td>\n",
       "      <td>...</td>\n",
       "      <td>...</td>\n",
       "      <td>...</td>\n",
       "      <td>...</td>\n",
       "      <td>...</td>\n",
       "      <td>...</td>\n",
       "      <td>...</td>\n",
       "      <td>...</td>\n",
       "      <td>...</td>\n",
       "      <td>...</td>\n",
       "      <td>...</td>\n",
       "    </tr>\n",
       "    <tr>\n",
       "      <th>5692</th>\n",
       "      <td>666029285002620928</td>\n",
       "      <td>2015-11-15 23:05:30</td>\n",
       "      <td>Twitter for iPhone</td>\n",
       "      <td>This is a western brown Mitsubishi terrier. Upset about leaf. Actually 2 dogs here. 7/10 would walk the shit out of https://t.co/r7mOb2m0UI</td>\n",
       "      <td>https://twitter.com/dog_rates/status/666029285002620928/photo/1</td>\n",
       "      <td>7.0</td>\n",
       "      <td>10.0</td>\n",
       "      <td>NaN</td>\n",
       "      <td>NaN</td>\n",
       "      <td>41</td>\n",
       "      <td>118</td>\n",
       "      <td>https://pbs.twimg.com/media/CT42GRgUYAA5iDo.jpg</td>\n",
       "      <td>1</td>\n",
       "      <td>2</td>\n",
       "      <td>miniature_pinscher</td>\n",
       "      <td>0.074192</td>\n",
       "      <td>True</td>\n",
       "    </tr>\n",
       "    <tr>\n",
       "      <th>5693</th>\n",
       "      <td>666029285002620928</td>\n",
       "      <td>2015-11-15 23:05:30</td>\n",
       "      <td>Twitter for iPhone</td>\n",
       "      <td>This is a western brown Mitsubishi terrier. Upset about leaf. Actually 2 dogs here. 7/10 would walk the shit out of https://t.co/r7mOb2m0UI</td>\n",
       "      <td>https://twitter.com/dog_rates/status/666029285002620928/photo/1</td>\n",
       "      <td>7.0</td>\n",
       "      <td>10.0</td>\n",
       "      <td>NaN</td>\n",
       "      <td>NaN</td>\n",
       "      <td>41</td>\n",
       "      <td>118</td>\n",
       "      <td>https://pbs.twimg.com/media/CT42GRgUYAA5iDo.jpg</td>\n",
       "      <td>1</td>\n",
       "      <td>3</td>\n",
       "      <td>Rhodesian_ridgeback</td>\n",
       "      <td>0.072010</td>\n",
       "      <td>True</td>\n",
       "    </tr>\n",
       "    <tr>\n",
       "      <th>5694</th>\n",
       "      <td>666020888022790149</td>\n",
       "      <td>2015-11-15 22:32:08</td>\n",
       "      <td>Twitter for iPhone</td>\n",
       "      <td>Here we have a Japanese Irish Setter. Lost eye in Vietnam (?). Big fan of relaxing on stair. 8/10 would pet https://t.co/BLDqew2Ijj</td>\n",
       "      <td>https://twitter.com/dog_rates/status/666020888022790149/photo/1</td>\n",
       "      <td>8.0</td>\n",
       "      <td>10.0</td>\n",
       "      <td>None</td>\n",
       "      <td>NaN</td>\n",
       "      <td>445</td>\n",
       "      <td>2338</td>\n",
       "      <td>https://pbs.twimg.com/media/CT4udn0WwAA0aMy.jpg</td>\n",
       "      <td>1</td>\n",
       "      <td>1</td>\n",
       "      <td>Welsh_springer_spaniel</td>\n",
       "      <td>0.465074</td>\n",
       "      <td>True</td>\n",
       "    </tr>\n",
       "    <tr>\n",
       "      <th>5695</th>\n",
       "      <td>666020888022790149</td>\n",
       "      <td>2015-11-15 22:32:08</td>\n",
       "      <td>Twitter for iPhone</td>\n",
       "      <td>Here we have a Japanese Irish Setter. Lost eye in Vietnam (?). Big fan of relaxing on stair. 8/10 would pet https://t.co/BLDqew2Ijj</td>\n",
       "      <td>https://twitter.com/dog_rates/status/666020888022790149/photo/1</td>\n",
       "      <td>8.0</td>\n",
       "      <td>10.0</td>\n",
       "      <td>None</td>\n",
       "      <td>NaN</td>\n",
       "      <td>445</td>\n",
       "      <td>2338</td>\n",
       "      <td>https://pbs.twimg.com/media/CT4udn0WwAA0aMy.jpg</td>\n",
       "      <td>1</td>\n",
       "      <td>2</td>\n",
       "      <td>collie</td>\n",
       "      <td>0.156665</td>\n",
       "      <td>True</td>\n",
       "    </tr>\n",
       "    <tr>\n",
       "      <th>5696</th>\n",
       "      <td>666020888022790149</td>\n",
       "      <td>2015-11-15 22:32:08</td>\n",
       "      <td>Twitter for iPhone</td>\n",
       "      <td>Here we have a Japanese Irish Setter. Lost eye in Vietnam (?). Big fan of relaxing on stair. 8/10 would pet https://t.co/BLDqew2Ijj</td>\n",
       "      <td>https://twitter.com/dog_rates/status/666020888022790149/photo/1</td>\n",
       "      <td>8.0</td>\n",
       "      <td>10.0</td>\n",
       "      <td>None</td>\n",
       "      <td>NaN</td>\n",
       "      <td>445</td>\n",
       "      <td>2338</td>\n",
       "      <td>https://pbs.twimg.com/media/CT4udn0WwAA0aMy.jpg</td>\n",
       "      <td>1</td>\n",
       "      <td>3</td>\n",
       "      <td>Shetland_sheepdog</td>\n",
       "      <td>0.061428</td>\n",
       "      <td>True</td>\n",
       "    </tr>\n",
       "  </tbody>\n",
       "</table>\n",
       "<p>5697 rows × 17 columns</p>\n",
       "</div>"
      ],
      "text/plain": [
       "                tweet_id           timestamp              source  \\\n",
       "0     892420643555336193 2017-08-01 16:23:56  Twitter for iPhone   \n",
       "1     892420643555336193 2017-08-01 16:23:56  Twitter for iPhone   \n",
       "2     892420643555336193 2017-08-01 16:23:56  Twitter for iPhone   \n",
       "3     892177421306343426 2017-08-01 00:17:27  Twitter for iPhone   \n",
       "4     892177421306343426 2017-08-01 00:17:27  Twitter for iPhone   \n",
       "...                  ...                 ...                 ...   \n",
       "5692  666029285002620928 2015-11-15 23:05:30  Twitter for iPhone   \n",
       "5693  666029285002620928 2015-11-15 23:05:30  Twitter for iPhone   \n",
       "5694  666020888022790149 2015-11-15 22:32:08  Twitter for iPhone   \n",
       "5695  666020888022790149 2015-11-15 22:32:08  Twitter for iPhone   \n",
       "5696  666020888022790149 2015-11-15 22:32:08  Twitter for iPhone   \n",
       "\n",
       "                                                                                                                                                                    text  \\\n",
       "0     This is Phineas. He's a mystical boy. Only ever appears in the hole of a donut. 13/10 https://t.co/MgUWQ76dJU                                                        \n",
       "1     This is Phineas. He's a mystical boy. Only ever appears in the hole of a donut. 13/10 https://t.co/MgUWQ76dJU                                                        \n",
       "2     This is Phineas. He's a mystical boy. Only ever appears in the hole of a donut. 13/10 https://t.co/MgUWQ76dJU                                                        \n",
       "3     This is Tilly. She's just checking pup on you. Hopes you're doing ok. If not, she's available for pats, snugs, boops, the whole bit. 13/10 https://t.co/0Xxu71qeIV   \n",
       "4     This is Tilly. She's just checking pup on you. Hopes you're doing ok. If not, she's available for pats, snugs, boops, the whole bit. 13/10 https://t.co/0Xxu71qeIV   \n",
       "...                                                                                                                                                                  ...   \n",
       "5692  This is a western brown Mitsubishi terrier. Upset about leaf. Actually 2 dogs here. 7/10 would walk the shit out of https://t.co/r7mOb2m0UI                          \n",
       "5693  This is a western brown Mitsubishi terrier. Upset about leaf. Actually 2 dogs here. 7/10 would walk the shit out of https://t.co/r7mOb2m0UI                          \n",
       "5694  Here we have a Japanese Irish Setter. Lost eye in Vietnam (?). Big fan of relaxing on stair. 8/10 would pet https://t.co/BLDqew2Ijj                                  \n",
       "5695  Here we have a Japanese Irish Setter. Lost eye in Vietnam (?). Big fan of relaxing on stair. 8/10 would pet https://t.co/BLDqew2Ijj                                  \n",
       "5696  Here we have a Japanese Irish Setter. Lost eye in Vietnam (?). Big fan of relaxing on stair. 8/10 would pet https://t.co/BLDqew2Ijj                                  \n",
       "\n",
       "                                                        expanded_urls  \\\n",
       "0     https://twitter.com/dog_rates/status/892420643555336193/photo/1   \n",
       "1     https://twitter.com/dog_rates/status/892420643555336193/photo/1   \n",
       "2     https://twitter.com/dog_rates/status/892420643555336193/photo/1   \n",
       "3     https://twitter.com/dog_rates/status/892177421306343426/photo/1   \n",
       "4     https://twitter.com/dog_rates/status/892177421306343426/photo/1   \n",
       "...                                                               ...   \n",
       "5692  https://twitter.com/dog_rates/status/666029285002620928/photo/1   \n",
       "5693  https://twitter.com/dog_rates/status/666029285002620928/photo/1   \n",
       "5694  https://twitter.com/dog_rates/status/666020888022790149/photo/1   \n",
       "5695  https://twitter.com/dog_rates/status/666020888022790149/photo/1   \n",
       "5696  https://twitter.com/dog_rates/status/666020888022790149/photo/1   \n",
       "\n",
       "      rating_numerator  rating_denominator     name dog_stage  retweet_count  \\\n",
       "0     13.0              10.0                Phineas  NaN       7428            \n",
       "1     13.0              10.0                Phineas  NaN       7428            \n",
       "2     13.0              10.0                Phineas  NaN       7428            \n",
       "3     13.0              10.0                Tilly    NaN       5521            \n",
       "4     13.0              10.0                Tilly    NaN       5521            \n",
       "...    ...               ...                  ...    ...        ...            \n",
       "5692  7.0               10.0                NaN      NaN       41              \n",
       "5693  7.0               10.0                NaN      NaN       41              \n",
       "5694  8.0               10.0                None     NaN       445             \n",
       "5695  8.0               10.0                None     NaN       445             \n",
       "5696  8.0               10.0                None     NaN       445             \n",
       "\n",
       "      favorite_count                                          jpg_url  \\\n",
       "0     35177           https://pbs.twimg.com/media/DGKD1-bXoAAIAUK.jpg   \n",
       "1     35177           https://pbs.twimg.com/media/DGKD1-bXoAAIAUK.jpg   \n",
       "2     35177           https://pbs.twimg.com/media/DGKD1-bXoAAIAUK.jpg   \n",
       "3     30446           https://pbs.twimg.com/media/DGGmoV4XsAAUL6n.jpg   \n",
       "4     30446           https://pbs.twimg.com/media/DGGmoV4XsAAUL6n.jpg   \n",
       "...     ...                                                       ...   \n",
       "5692  118             https://pbs.twimg.com/media/CT42GRgUYAA5iDo.jpg   \n",
       "5693  118             https://pbs.twimg.com/media/CT42GRgUYAA5iDo.jpg   \n",
       "5694  2338            https://pbs.twimg.com/media/CT4udn0WwAA0aMy.jpg   \n",
       "5695  2338            https://pbs.twimg.com/media/CT4udn0WwAA0aMy.jpg   \n",
       "5696  2338            https://pbs.twimg.com/media/CT4udn0WwAA0aMy.jpg   \n",
       "\n",
       "      img_num  prediction_level              prediction  confidence  breed  \n",
       "0     1        1                 orange                  0.097049    False  \n",
       "1     1        2                 bagel                   0.085851    False  \n",
       "2     1        3                 banana                  0.076110    False  \n",
       "3     1        1                 Chihuahua               0.323581    True   \n",
       "4     1        2                 Pekinese                0.090647    True   \n",
       "...  ..       ..                      ...                     ...     ...   \n",
       "5692  1        2                 miniature_pinscher      0.074192    True   \n",
       "5693  1        3                 Rhodesian_ridgeback     0.072010    True   \n",
       "5694  1        1                 Welsh_springer_spaniel  0.465074    True   \n",
       "5695  1        2                 collie                  0.156665    True   \n",
       "5696  1        3                 Shetland_sheepdog       0.061428    True   \n",
       "\n",
       "[5697 rows x 17 columns]"
      ]
     },
     "execution_count": 157,
     "metadata": {},
     "output_type": "execute_result"
    }
   ],
   "source": [
    "master_df"
   ]
  },
  {
   "cell_type": "code",
   "execution_count": 165,
   "metadata": {},
   "outputs": [
    {
     "ename": "IndexError",
     "evalue": "index 0 is out of bounds for axis 0 with size 0",
     "output_type": "error",
     "traceback": [
      "\u001b[1;31m---------------------------------------------------------------------------\u001b[0m",
      "\u001b[1;31mIndexError\u001b[0m                                Traceback (most recent call last)",
      "\u001b[1;32m<ipython-input-165-5856d4a3f7b4>\u001b[0m in \u001b[0;36m<module>\u001b[1;34m\u001b[0m\n\u001b[1;32m----> 1\u001b[1;33m \u001b[0mmaster_df\u001b[0m\u001b[1;33m[\u001b[0m\u001b[0mmaster_df\u001b[0m\u001b[1;33m.\u001b[0m\u001b[0mprediction\u001b[0m \u001b[1;33m==\u001b[0m \u001b[1;32mTrue\u001b[0m\u001b[1;33m]\u001b[0m\u001b[1;33m.\u001b[0m\u001b[0mgroupby\u001b[0m\u001b[1;33m(\u001b[0m\u001b[1;33m[\u001b[0m\u001b[1;34m'prediction'\u001b[0m\u001b[1;33m]\u001b[0m\u001b[1;33m)\u001b[0m\u001b[1;33m.\u001b[0m\u001b[0mfavorite_count\u001b[0m\u001b[1;33m.\u001b[0m\u001b[0mmean\u001b[0m\u001b[1;33m(\u001b[0m\u001b[1;33m)\u001b[0m\u001b[1;33m.\u001b[0m\u001b[0msort_values\u001b[0m\u001b[1;33m(\u001b[0m\u001b[0mascending\u001b[0m\u001b[1;33m=\u001b[0m\u001b[1;32mFalse\u001b[0m\u001b[1;33m)\u001b[0m\u001b[1;33m[\u001b[0m\u001b[1;36m12\u001b[0m\u001b[1;33m:\u001b[0m\u001b[1;33m:\u001b[0m\u001b[1;33m-\u001b[0m\u001b[1;36m1\u001b[0m\u001b[1;33m]\u001b[0m\u001b[1;33m.\u001b[0m\u001b[0mplot\u001b[0m\u001b[1;33m(\u001b[0m\u001b[0mkind\u001b[0m\u001b[1;33m=\u001b[0m\u001b[1;34m'barh'\u001b[0m\u001b[1;33m)\u001b[0m\u001b[1;33m;\u001b[0m\u001b[1;33m\u001b[0m\u001b[1;33m\u001b[0m\u001b[0m\n\u001b[0m\u001b[0;32m      2\u001b[0m \u001b[0mplt\u001b[0m\u001b[1;33m.\u001b[0m\u001b[0mxlabel\u001b[0m\u001b[1;33m(\u001b[0m\u001b[1;34m'Avg_favorites_count'\u001b[0m\u001b[1;33m)\u001b[0m\u001b[1;33m\u001b[0m\u001b[1;33m\u001b[0m\u001b[0m\n\u001b[0;32m      3\u001b[0m \u001b[0mplt\u001b[0m\u001b[1;33m.\u001b[0m\u001b[0mylabel\u001b[0m\u001b[1;33m(\u001b[0m\u001b[1;34m'Dog Breed'\u001b[0m\u001b[1;33m)\u001b[0m\u001b[1;33m;\u001b[0m\u001b[1;33m\u001b[0m\u001b[1;33m\u001b[0m\u001b[0m\n",
      "\u001b[1;32m~\\anaconda3\\lib\\site-packages\\pandas\\plotting\\_core.py\u001b[0m in \u001b[0;36m__call__\u001b[1;34m(self, *args, **kwargs)\u001b[0m\n\u001b[0;32m    947\u001b[0m                     \u001b[0mdata\u001b[0m\u001b[1;33m.\u001b[0m\u001b[0mcolumns\u001b[0m \u001b[1;33m=\u001b[0m \u001b[0mlabel_name\u001b[0m\u001b[1;33m\u001b[0m\u001b[1;33m\u001b[0m\u001b[0m\n\u001b[0;32m    948\u001b[0m \u001b[1;33m\u001b[0m\u001b[0m\n\u001b[1;32m--> 949\u001b[1;33m         \u001b[1;32mreturn\u001b[0m \u001b[0mplot_backend\u001b[0m\u001b[1;33m.\u001b[0m\u001b[0mplot\u001b[0m\u001b[1;33m(\u001b[0m\u001b[0mdata\u001b[0m\u001b[1;33m,\u001b[0m \u001b[0mkind\u001b[0m\u001b[1;33m=\u001b[0m\u001b[0mkind\u001b[0m\u001b[1;33m,\u001b[0m \u001b[1;33m**\u001b[0m\u001b[0mkwargs\u001b[0m\u001b[1;33m)\u001b[0m\u001b[1;33m\u001b[0m\u001b[1;33m\u001b[0m\u001b[0m\n\u001b[0m\u001b[0;32m    950\u001b[0m \u001b[1;33m\u001b[0m\u001b[0m\n\u001b[0;32m    951\u001b[0m     \u001b[0m__call__\u001b[0m\u001b[1;33m.\u001b[0m\u001b[0m__doc__\u001b[0m \u001b[1;33m=\u001b[0m \u001b[0m__doc__\u001b[0m\u001b[1;33m\u001b[0m\u001b[1;33m\u001b[0m\u001b[0m\n",
      "\u001b[1;32m~\\anaconda3\\lib\\site-packages\\pandas\\plotting\\_matplotlib\\__init__.py\u001b[0m in \u001b[0;36mplot\u001b[1;34m(data, kind, **kwargs)\u001b[0m\n\u001b[0;32m     59\u001b[0m             \u001b[0mkwargs\u001b[0m\u001b[1;33m[\u001b[0m\u001b[1;34m\"ax\"\u001b[0m\u001b[1;33m]\u001b[0m \u001b[1;33m=\u001b[0m \u001b[0mgetattr\u001b[0m\u001b[1;33m(\u001b[0m\u001b[0max\u001b[0m\u001b[1;33m,\u001b[0m \u001b[1;34m\"left_ax\"\u001b[0m\u001b[1;33m,\u001b[0m \u001b[0max\u001b[0m\u001b[1;33m)\u001b[0m\u001b[1;33m\u001b[0m\u001b[1;33m\u001b[0m\u001b[0m\n\u001b[0;32m     60\u001b[0m     \u001b[0mplot_obj\u001b[0m \u001b[1;33m=\u001b[0m \u001b[0mPLOT_CLASSES\u001b[0m\u001b[1;33m[\u001b[0m\u001b[0mkind\u001b[0m\u001b[1;33m]\u001b[0m\u001b[1;33m(\u001b[0m\u001b[0mdata\u001b[0m\u001b[1;33m,\u001b[0m \u001b[1;33m**\u001b[0m\u001b[0mkwargs\u001b[0m\u001b[1;33m)\u001b[0m\u001b[1;33m\u001b[0m\u001b[1;33m\u001b[0m\u001b[0m\n\u001b[1;32m---> 61\u001b[1;33m     \u001b[0mplot_obj\u001b[0m\u001b[1;33m.\u001b[0m\u001b[0mgenerate\u001b[0m\u001b[1;33m(\u001b[0m\u001b[1;33m)\u001b[0m\u001b[1;33m\u001b[0m\u001b[1;33m\u001b[0m\u001b[0m\n\u001b[0m\u001b[0;32m     62\u001b[0m     \u001b[0mplot_obj\u001b[0m\u001b[1;33m.\u001b[0m\u001b[0mdraw\u001b[0m\u001b[1;33m(\u001b[0m\u001b[1;33m)\u001b[0m\u001b[1;33m\u001b[0m\u001b[1;33m\u001b[0m\u001b[0m\n\u001b[0;32m     63\u001b[0m     \u001b[1;32mreturn\u001b[0m \u001b[0mplot_obj\u001b[0m\u001b[1;33m.\u001b[0m\u001b[0mresult\u001b[0m\u001b[1;33m\u001b[0m\u001b[1;33m\u001b[0m\u001b[0m\n",
      "\u001b[1;32m~\\anaconda3\\lib\\site-packages\\pandas\\plotting\\_matplotlib\\core.py\u001b[0m in \u001b[0;36mgenerate\u001b[1;34m(self)\u001b[0m\n\u001b[0;32m    276\u001b[0m         \u001b[1;32mfor\u001b[0m \u001b[0max\u001b[0m \u001b[1;32min\u001b[0m \u001b[0mself\u001b[0m\u001b[1;33m.\u001b[0m\u001b[0maxes\u001b[0m\u001b[1;33m:\u001b[0m\u001b[1;33m\u001b[0m\u001b[1;33m\u001b[0m\u001b[0m\n\u001b[0;32m    277\u001b[0m             \u001b[0mself\u001b[0m\u001b[1;33m.\u001b[0m\u001b[0m_post_plot_logic_common\u001b[0m\u001b[1;33m(\u001b[0m\u001b[0max\u001b[0m\u001b[1;33m,\u001b[0m \u001b[0mself\u001b[0m\u001b[1;33m.\u001b[0m\u001b[0mdata\u001b[0m\u001b[1;33m)\u001b[0m\u001b[1;33m\u001b[0m\u001b[1;33m\u001b[0m\u001b[0m\n\u001b[1;32m--> 278\u001b[1;33m             \u001b[0mself\u001b[0m\u001b[1;33m.\u001b[0m\u001b[0m_post_plot_logic\u001b[0m\u001b[1;33m(\u001b[0m\u001b[0max\u001b[0m\u001b[1;33m,\u001b[0m \u001b[0mself\u001b[0m\u001b[1;33m.\u001b[0m\u001b[0mdata\u001b[0m\u001b[1;33m)\u001b[0m\u001b[1;33m\u001b[0m\u001b[1;33m\u001b[0m\u001b[0m\n\u001b[0m\u001b[0;32m    279\u001b[0m \u001b[1;33m\u001b[0m\u001b[0m\n\u001b[0;32m    280\u001b[0m     \u001b[1;32mdef\u001b[0m \u001b[0m_args_adjust\u001b[0m\u001b[1;33m(\u001b[0m\u001b[0mself\u001b[0m\u001b[1;33m)\u001b[0m\u001b[1;33m:\u001b[0m\u001b[1;33m\u001b[0m\u001b[1;33m\u001b[0m\u001b[0m\n",
      "\u001b[1;32m~\\anaconda3\\lib\\site-packages\\pandas\\plotting\\_matplotlib\\core.py\u001b[0m in \u001b[0;36m_post_plot_logic\u001b[1;34m(self, ax, data)\u001b[0m\n\u001b[0;32m   1459\u001b[0m         \u001b[0mname\u001b[0m \u001b[1;33m=\u001b[0m \u001b[0mself\u001b[0m\u001b[1;33m.\u001b[0m\u001b[0m_get_index_name\u001b[0m\u001b[1;33m(\u001b[0m\u001b[1;33m)\u001b[0m\u001b[1;33m\u001b[0m\u001b[1;33m\u001b[0m\u001b[0m\n\u001b[0;32m   1460\u001b[0m \u001b[1;33m\u001b[0m\u001b[0m\n\u001b[1;32m-> 1461\u001b[1;33m         \u001b[0ms_edge\u001b[0m \u001b[1;33m=\u001b[0m \u001b[0mself\u001b[0m\u001b[1;33m.\u001b[0m\u001b[0max_pos\u001b[0m\u001b[1;33m[\u001b[0m\u001b[1;36m0\u001b[0m\u001b[1;33m]\u001b[0m \u001b[1;33m-\u001b[0m \u001b[1;36m0.25\u001b[0m \u001b[1;33m+\u001b[0m \u001b[0mself\u001b[0m\u001b[1;33m.\u001b[0m\u001b[0mlim_offset\u001b[0m\u001b[1;33m\u001b[0m\u001b[1;33m\u001b[0m\u001b[0m\n\u001b[0m\u001b[0;32m   1462\u001b[0m         \u001b[0me_edge\u001b[0m \u001b[1;33m=\u001b[0m \u001b[0mself\u001b[0m\u001b[1;33m.\u001b[0m\u001b[0max_pos\u001b[0m\u001b[1;33m[\u001b[0m\u001b[1;33m-\u001b[0m\u001b[1;36m1\u001b[0m\u001b[1;33m]\u001b[0m \u001b[1;33m+\u001b[0m \u001b[1;36m0.25\u001b[0m \u001b[1;33m+\u001b[0m \u001b[0mself\u001b[0m\u001b[1;33m.\u001b[0m\u001b[0mbar_width\u001b[0m \u001b[1;33m+\u001b[0m \u001b[0mself\u001b[0m\u001b[1;33m.\u001b[0m\u001b[0mlim_offset\u001b[0m\u001b[1;33m\u001b[0m\u001b[1;33m\u001b[0m\u001b[0m\n\u001b[0;32m   1463\u001b[0m \u001b[1;33m\u001b[0m\u001b[0m\n",
      "\u001b[1;31mIndexError\u001b[0m: index 0 is out of bounds for axis 0 with size 0"
     ]
    },
    {
     "data": {
      "image/png": "[encoded data removed]",
      "text/plain": [
       "<Figure size 720x432 with 1 Axes>"
      ]
     },
     "metadata": {},
     "output_type": "display_data"
    }
   ],
   "source": [
    "master_df[master_df.prediction == True].groupby(['prediction']).favorite_count.mean().sort_values(ascending=False)[12::-1].plot(kind='barh');\n",
    "plt.xlabel('Avg_favorites_count')\n",
    "plt.ylabel('Dog Breed');"
   ]
  },
  {
   "cell_type": "code",
   "execution_count": 158,
   "metadata": {},
   "outputs": [
    {
     "data": {
      "image/png": "[encoded data removed]",
      "text/plain": [
       "<Figure size 432x288 with 1 Axes>"
      ]
     },
     "metadata": {
      "needs_background": "light"
     },
     "output_type": "display_data"
    }
   ],
   "source": [
    "master_df.groupby(['prediction']).retweet_count.mean().sort_values(ascending=False)[12::-1].plot(kind='barh');\n",
    "plt.xlabel('Avg_favorites_count')\n",
    "plt.ylabel('Dog Breed');"
   ]
  },
  {
   "cell_type": "code",
   "execution_count": 159,
   "metadata": {},
   "outputs": [
    {
     "data": {
      "text/plain": [
       "Labrador_retriever                247\n",
       "golden_retriever                  241\n",
       "Chihuahua                         172\n",
       "Pembroke                          134\n",
       "Cardigan                          109\n",
       "toy_poodle                        99 \n",
       "Pomeranian                        97 \n",
       "pug                               88 \n",
       "chow                              87 \n",
       "French_bulldog                    87 \n",
       "Chesapeake_Bay_retriever          82 \n",
       "cocker_spaniel                    80 \n",
       "Eskimo_dog                        79 \n",
       "Siberian_husky                    72 \n",
       "beagle                            70 \n",
       "kuvasz                            66 \n",
       "malamute                          63 \n",
       "Staffordshire_bullterrier         62 \n",
       "Pekinese                          62 \n",
       "Samoyed                           59 \n",
       "kelpie                            56 \n",
       "miniature_pinscher                54 \n",
       "American_Staffordshire_terrier    53 \n",
       "Great_Pyrenees                    51 \n",
       "miniature_poodle                  51 \n",
       "collie                            48 \n",
       "Italian_greyhound                 48 \n",
       "German_shepherd                   47 \n",
       "Shetland_sheepdog                 45 \n",
       "Boston_bull                       44 \n",
       "Shih-Tzu                          42 \n",
       "seat_belt                         41 \n",
       "Maltese_dog                       41 \n",
       "West_Highland_white_terrier       40 \n",
       "boxer                             38 \n",
       "Lakeland_terrier                  38 \n",
       "teddy                             38 \n",
       "toy_terrier                       36 \n",
       "bull_mastiff                      36 \n",
       "basset                            35 \n",
       "Norwegian_elkhound                34 \n",
       "Rottweiler                        34 \n",
       "malinois                          33 \n",
       "basenji                           32 \n",
       "Tibetan_mastiff                   32 \n",
       "whippet                           31 \n",
       "Border_collie                     31 \n",
       "soft-coated_wheaten_terrier       30 \n",
       "vizsla                            29 \n",
       "Irish_terrier                     29 \n",
       "doormat                           29 \n",
       "Siamese_cat                       28 \n",
       "standard_poodle                   28 \n",
       "Airedale                          27 \n",
       "dingo                             26 \n",
       "borzoi                            25 \n",
       "bloodhound                        25 \n",
       "redbone                           25 \n",
       "Great_Dane                        24 \n",
       "Norfolk_terrier                   24 \n",
       "papillon                          24 \n",
       "Old_English_sheepdog              24 \n",
       "English_setter                    23 \n",
       "English_springer                  23 \n",
       "German_short-haired_pointer       22 \n",
       "Brittany_spaniel                  22 \n",
       "Lhasa                             22 \n",
       "Newfoundland                      21 \n",
       "Saluki                            21 \n",
       "schipperke                        20 \n",
       "Yorkshire_terrier                 20 \n",
       "Weimaraner                        20 \n",
       "Doberman                          20 \n",
       "Irish_setter                      20 \n",
       "keeshond                          20 \n",
       "flat-coated_retriever             19 \n",
       "Tibetan_terrier                   19 \n",
       "Welsh_springer_spaniel            19 \n",
       "Rhodesian_ridgeback               19 \n",
       "Saint_Bernard                     19 \n",
       "Brabancon_griffon                 18 \n",
       "ice_bear                          17 \n",
       "black-and-tan_coonhound           17 \n",
       "Border_terrier                    17 \n",
       "dalmatian                         17 \n",
       "Blenheim_spaniel                  16 \n",
       "bluetick                          16 \n",
       "Appenzeller                       16 \n",
       "groenendael                       16 \n",
       "Ibizan_hound                      16 \n",
       "web_site                          15 \n",
       "bath_towel                        15 \n",
       "bathtub                           15 \n",
       "llama                             14 \n",
       "Greater_Swiss_Mountain_dog        14 \n",
       "Norwich_terrier                   14 \n",
       "tennis_ball                       14 \n",
       "Bernese_mountain_dog              13 \n",
       "cairn                             13 \n",
       "Leonberg                          13 \n",
       "tub                               13 \n",
       "white_wolf                        13 \n",
       "muzzle                            13 \n",
       "guinea_pig                        13 \n",
       "Walker_hound                      13 \n",
       "hamster                           13 \n",
       "hog                               13 \n",
       "Mexican_hairless                  12 \n",
       "Dandie_Dinmont                    12 \n",
       "Australian_terrier                12 \n",
       "curly-coated_retriever            12 \n",
       "Arctic_fox                        11 \n",
       "swing                             11 \n",
       "silky_terrier                     11 \n",
       "weasel                            11 \n",
       "Bedlington_terrier                10 \n",
       "miniature_schnauzer               10 \n",
       "sunglasses                        9  \n",
       "ram                               9  \n",
       "koala                             9  \n",
       "giant_schnauzer                   9  \n",
       "black-footed_ferret               9  \n",
       "Afghan_hound                      9  \n",
       "sea_lion                          9  \n",
       "wire-haired_fox_terrier           9  \n",
       "clumber                           8  \n",
       "shopping_cart                     8  \n",
       "ox                                8  \n",
       "EntleBucher                       8  \n",
       "Arabian_camel                     8  \n",
       "Gordon_setter                     8  \n",
       "toilet_tissue                     8  \n",
       "English_foxhound                  8  \n",
       "Angora                            8  \n",
       "Christmas_stocking                8  \n",
       "badger                            8  \n",
       "quilt                             7  \n",
       "sandbar                           7  \n",
       "minivan                           7  \n",
       "Persian_cat                       7  \n",
       "Irish_water_spaniel               7  \n",
       "otterhound                        7  \n",
       "wood_rabbit                       7  \n",
       "wallaby                           7  \n",
       "briard                            7  \n",
       "fur_coat                          7  \n",
       "feather_boa                       7  \n",
       "hen                               7  \n",
       "Sussex_spaniel                    7  \n",
       "fountain                          7  \n",
       "bow_tie                           7  \n",
       "lakeside                          7  \n",
       "Scottish_deerhound                6  \n",
       "ice_lolly                         6  \n",
       "ski_mask                          6  \n",
       "washbasin                         6  \n",
       "paper_towel                       6  \n",
       "space_heater                      6  \n",
       "shower_curtain                    6  \n",
       "wombat                            6  \n",
       "porcupine                         6  \n",
       "shopping_basket                   6  \n",
       "swab                              6  \n",
       "Japanese_spaniel                  6  \n",
       "komondor                          6  \n",
       "car_mirror                        6  \n",
       "meerkat                           6  \n",
       "home_theater                      6  \n",
       "goose                             6  \n",
       "toilet_seat                       6  \n",
       "dhole                             5  \n",
       "bubble                            5  \n",
       "paddle                            5  \n",
       "bison                             5  \n",
       "polecat                           5  \n",
       "television                        5  \n",
       "window_screen                     5  \n",
       "wool                              5  \n",
       "terrapin                          5  \n",
       "beach_wagon                       5  \n",
       "box_turtle                        5  \n",
       "water_buffalo                     5  \n",
       "carton                            5  \n",
       "barrow                            5  \n",
       "mink                              5  \n",
       "toyshop                           5  \n",
       "studio_couch                      5  \n",
       "pillow                            5  \n",
       "jigsaw_puzzle                     5  \n",
       "hippopotamus                      5  \n",
       "skunk                             5  \n",
       "American_black_bear               5  \n",
       "beaver                            5  \n",
       "common_iguana                     5  \n",
       "triceratops                       5  \n",
       "three-toed_sloth                  5  \n",
       "gibbon                            5  \n",
       "macaque                           4  \n",
       "cougar                            4  \n",
       "tabby                             4  \n",
       "bookcase                          4  \n",
       "window_shade                      4  \n",
       "mask                              4  \n",
       "crane                             4  \n",
       "seashore                          4  \n",
       "sundial                           4  \n",
       "snorkel                           4  \n",
       "Irish_wolfhound                   4  \n",
       "brown_bear                        4  \n",
       "frilled_lizard                    4  \n",
       "vacuum                            4  \n",
       "menu                              4  \n",
       "wig                               4  \n",
       "prison                            4  \n",
       "warthog                           4  \n",
       "chimpanzee                        4  \n",
       "minibus                           4  \n",
       "giant_panda                       4  \n",
       "dishwasher                        4  \n",
       "sliding_door                      4  \n",
       "rotisserie                        4  \n",
       "envelope                          4  \n",
       "limousine                         4  \n",
       "sombrero                          4  \n",
       "snail                             4  \n",
       "hare                              4  \n",
       "marmot                            4  \n",
       "patio                             4  \n",
       "microwave                         4  \n",
       "Sealyham_terrier                  4  \n",
       "ashcan                            3  \n",
       "standard_schnauzer                3  \n",
       "slug                              3  \n",
       "comic_book                        3  \n",
       "mousetrap                         3  \n",
       "bib                               3  \n",
       "grey_fox                          3  \n",
       "cowboy_boot                       3  \n",
       "refrigerator                      3  \n",
       "jaguar                            3  \n",
       "quill                             3  \n",
       "cash_machine                      3  \n",
       "echidna                           3  \n",
       "Scotch_terrier                    3  \n",
       "bannister                         3  \n",
       "coral_reef                        3  \n",
       "birdhouse                         3  \n",
       "goldfish                          3  \n",
       "soccer_ball                       3  \n",
       "gorilla                           3  \n",
       "boathouse                         3  \n",
       "convertible                       3  \n",
       "balloon                           3  \n",
       "leafhopper                        3  \n",
       "canoe                             3  \n",
       "jack-o'-lantern                   3  \n",
       "tailed_frog                       3  \n",
       "axolotl                           3  \n",
       "cup                               3  \n",
       "nail                              3  \n",
       "rain_barrel                       3  \n",
       "agama                             3  \n",
       "motor_scooter                     3  \n",
       "bighorn                           3  \n",
       "bagel                             3  \n",
       "king_penguin                      3  \n",
       "orange                            3  \n",
       "bathing_cap                       3  \n",
       "entertainment_center              3  \n",
       "cliff                             3  \n",
       "cowboy_hat                        3  \n",
       "loggerhead                        3  \n",
       "bow                               3  \n",
       "bucket                            3  \n",
       "prayer_rug                        3  \n",
       "four-poster                       3  \n",
       "crossword_puzzle                  3  \n",
       "scuba_diver                       3  \n",
       "hyena                             3  \n",
       "racket                            3  \n",
       "Egyptian_cat                      3  \n",
       "mongoose                          3  \n",
       "rhinoceros_beetle                 3  \n",
       "otter                             3  \n",
       "beacon                            2  \n",
       "assault_rifle                     2  \n",
       "spatula                           2  \n",
       "cab                               2  \n",
       "mud_turtle                        2  \n",
       "dining_table                      2  \n",
       "pickup                            2  \n",
       "lampshade                         2  \n",
       "bonnet                            2  \n",
       "wild_boar                         2  \n",
       "hummingbird                       2  \n",
       "padlock                           2  \n",
       "water_bottle                      2  \n",
       "rapeseed                          2  \n",
       "shower_cap                        2  \n",
       "park_bench                        2  \n",
       "hand-held_computer                2  \n",
       "china_cabinet                     2  \n",
       "snowmobile                        2  \n",
       "dugong                            2  \n",
       "barrel                            2  \n",
       "conch                             2  \n",
       "bearskin                          2  \n",
       "peacock                           2  \n",
       "Loafer                            2  \n",
       "hotdog                            2  \n",
       "African_hunting_dog               2  \n",
       "snow_leopard                      2  \n",
       "zebra                             2  \n",
       "umbrella                          2  \n",
       "killer_whale                      2  \n",
       "tusker                            2  \n",
       "corn                              2  \n",
       "jellyfish                         2  \n",
       "ostrich                           2  \n",
       "panpipe                           2  \n",
       "handkerchief                      2  \n",
       "radiator                          2  \n",
       "punching_bag                      2  \n",
       "pizza                             2  \n",
       "neck_brace                        2  \n",
       "loupe                             2  \n",
       "screw                             2  \n",
       "mosquito_net                      2  \n",
       "cloak                             2  \n",
       "bassinet                          2  \n",
       "cheetah                           2  \n",
       "dogsled                           2  \n",
       "mouse                             2  \n",
       "barbell                           2  \n",
       "Bouvier_des_Flandres              2  \n",
       "affenpinscher                     2  \n",
       "brass                             2  \n",
       "maze                              2  \n",
       "street_sign                       2  \n",
       "lawn_mower                        2  \n",
       "lumbermill                        2  \n",
       "Indian_elephant                   2  \n",
       "shovel                            2  \n",
       "geyser                            2  \n",
       "pot                               2  \n",
       "pool_table                        2  \n",
       "acorn_squash                      2  \n",
       "cuirass                           2  \n",
       "moped                             2  \n",
       "rifle                             2  \n",
       "leatherback_turtle                2  \n",
       "Windsor_tie                       2  \n",
       "electric_fan                      2  \n",
       "oscilloscope                      2  \n",
       "abaya                             2  \n",
       "hay                               2  \n",
       "lion                              2  \n",
       "car_wheel                         2  \n",
       "restaurant                        2  \n",
       "wallet                            2  \n",
       "plow                              2  \n",
       "can_opener                        2  \n",
       "common_newt                       2  \n",
       "banana                            2  \n",
       "basketball                        2  \n",
       "ibex                              2  \n",
       "bustard                           2  \n",
       "great_white_shark                 2  \n",
       "file                              2  \n",
       "bolete                            2  \n",
       "sorrel                            2  \n",
       "maillot                           2  \n",
       "desktop_computer                  2  \n",
       "pier                              2  \n",
       "Kerry_blue_terrier                2  \n",
       "platypus                          2  \n",
       "book_jacket                       2  \n",
       "cock                              2  \n",
       "mailbox                           2  \n",
       "titi                              2  \n",
       "gondola                           2  \n",
       "purse                             2  \n",
       "African_grey                      2  \n",
       "shoji                             2  \n",
       "hand_blower                       2  \n",
       "tick                              2  \n",
       "American_alligator                2  \n",
       "Madagascar_cat                    2  \n",
       "coyote                            2  \n",
       "sea_urchin                        2  \n",
       "printer                           2  \n",
       "tow_truck                         2  \n",
       "stove                             2  \n",
       "sports_car                        2  \n",
       "squirrel_monkey                   2  \n",
       "sunglass                          2  \n",
       "chain_saw                         2  \n",
       "hatchet                           2  \n",
       "stone_wall                        2  \n",
       "hermit_crab                       2  \n",
       "sulphur_butterfly                 1  \n",
       "wreck                             1  \n",
       "mushroom                          1  \n",
       "candle                            1  \n",
       "plastic_bag                       1  \n",
       "lifeboat                          1  \n",
       "plunger                           1  \n",
       "pedestal                          1  \n",
       "partridge                         1  \n",
       "nipple                            1  \n",
       "monitor                           1  \n",
       "great_grey_owl                    1  \n",
       "orangutan                         1  \n",
       "power_drill                       1  \n",
       "clog                              1  \n",
       "wolf_spider                       1  \n",
       "lacewing                          1  \n",
       "soap_dispenser                    1  \n",
       "siamang                           1  \n",
       "pelican                           1  \n",
       "sleeping_bag                      1  \n",
       "cheeseburger                      1  \n",
       "flamingo                          1  \n",
       "sarong                            1  \n",
       "suit                              1  \n",
       "carousel                          1  \n",
       "ballplayer                        1  \n",
       "wooden_spoon                      1  \n",
       "cannon                            1  \n",
       "tray                              1  \n",
       "bobsled                           1  \n",
       "wing                              1  \n",
       "robin                             1  \n",
       "coral_fungus                      1  \n",
       "bullfrog                          1  \n",
       "knee_pad                          1  \n",
       "waffle_iron                       1  \n",
       "medicine_chest                    1  \n",
       "earthstar                         1  \n",
       "junco                             1  \n",
       "wok                               1  \n",
       "paintbrush                        1  \n",
       "valley                            1  \n",
       "piggy_bank                        1  \n",
       "oxcart                            1  \n",
       "consomme                          1  \n",
       "guillotine                        1  \n",
       "Band_Aid                          1  \n",
       "turnstile                         1  \n",
       "pitcher                           1  \n",
       "acorn                             1  \n",
       "chain_mail                        1  \n",
       "torch                             1  \n",
       "timber_wolf                       1  \n",
       "stinkhorn                         1  \n",
       "bulletproof_vest                  1  \n",
       "mashed_potato                     1  \n",
       "passenger_car                     1  \n",
       "barber_chair                      1  \n",
       "confectionery                     1  \n",
       "stingray                          1  \n",
       "grey_whale                        1  \n",
       "lorikeet                          1  \n",
       "mitten                            1  \n",
       "bee_eater                         1  \n",
       "traffic_light                     1  \n",
       "hamper                            1  \n",
       "washer                            1  \n",
       "starfish                          1  \n",
       "shield                            1  \n",
       "coffeepot                         1  \n",
       "accordion                         1  \n",
       "kimono                            1  \n",
       "prairie_chicken                   1  \n",
       "ocarina                           1  \n",
       "leaf_beetle                       1  \n",
       "joystick                          1  \n",
       "scorpion                          1  \n",
       "syringe                           1  \n",
       "folding_chair                     1  \n",
       "mortarboard                       1  \n",
       "damselfly                         1  \n",
       "coil                              1  \n",
       "tree_frog                         1  \n",
       "switch                            1  \n",
       "cardoon                           1  \n",
       "notebook                          1  \n",
       "barbershop                        1  \n",
       "hair_spray                        1  \n",
       "streetcar                         1  \n",
       "cockroach                         1  \n",
       "rule                              1  \n",
       "African_crocodile                 1  \n",
       "go-kart                           1  \n",
       "red_fox                           1  \n",
       "banded_gecko                      1  \n",
       "parachute                         1  \n",
       "necklace                          1  \n",
       "spindle                           1  \n",
       "sock                              1  \n",
       "greenhouse                        1  \n",
       "European_gallinule                1  \n",
       "grille                            1  \n",
       "dock                              1  \n",
       "toucan                            1  \n",
       "balance_beam                      1  \n",
       "dumbbell                          1  \n",
       "croquet_ball                      1  \n",
       "tripod                            1  \n",
       "chain                             1  \n",
       "walking_stick                     1  \n",
       "crayfish                          1  \n",
       "grand_piano                       1  \n",
       "police_van                        1  \n",
       "picket_fence                      1  \n",
       "remote_control                    1  \n",
       "barracouta                        1  \n",
       "radio_telescope                   1  \n",
       "binoculars                        1  \n",
       "lighter                           1  \n",
       "cradle                            1  \n",
       "buckeye                           1  \n",
       "hammer                            1  \n",
       "guenon                            1  \n",
       "volcano                           1  \n",
       "rock_crab                         1  \n",
       "pajama                            1  \n",
       "lesser_panda                      1  \n",
       "Gila_monster                      1  \n",
       "coho                              1  \n",
       "parallel_bars                     1  \n",
       "pole                              1  \n",
       "solar_dish                        1  \n",
       "crib                              1  \n",
       "microphone                        1  \n",
       "military_uniform                  1  \n",
       "quail                             1  \n",
       "mountain_tent                     1  \n",
       "oxygen_mask                       1  \n",
       "teapot                            1  \n",
       "laptop                            1  \n",
       "tiger_cat                         1  \n",
       "tiger                             1  \n",
       "steam_locomotive                  1  \n",
       "harp                              1  \n",
       "eel                               1  \n",
       "projectile                        1  \n",
       "trombone                          1  \n",
       "espresso                          1  \n",
       "sulphur-crested_cockatoo          1  \n",
       "drake                             1  \n",
       "table_lamp                        1  \n",
       "black_swan                        1  \n",
       "breakwater                        1  \n",
       "viaduct                           1  \n",
       "sandal                            1  \n",
       "jersey                            1  \n",
       "gar                               1  \n",
       "tiger_shark                       1  \n",
       "revolver                          1  \n",
       "hammerhead                        1  \n",
       "cardigan                          1  \n",
       "alp                               1  \n",
       "crutch                            1  \n",
       "crate                             1  \n",
       "cornet                            1  \n",
       "broccoli                          1  \n",
       "horse_cart                        1  \n",
       "fire_engine                       1  \n",
       "bakery                            1  \n",
       "saltshaker                        1  \n",
       "armadillo                         1  \n",
       "red_wolf                          1  \n",
       "ping-pong_ball                    1  \n",
       "European_fire_salamander          1  \n",
       "desk                              1  \n",
       "grocery_store                     1  \n",
       "apron                             1  \n",
       "African_chameleon                 1  \n",
       "drumstick                         1  \n",
       "chickadee                         1  \n",
       "jeep                              1  \n",
       "bald_eagle                        1  \n",
       "bookshop                          1  \n",
       "academic_gown                     1  \n",
       "chime                             1  \n",
       "spotlight                         1  \n",
       "sea_cucumber                      1  \n",
       "chest                             1  \n",
       "school_bus                        1  \n",
       "leopard                           1  \n",
       "spotted_salamander                1  \n",
       "binder                            1  \n",
       "French_horn                       1  \n",
       "tarantula                         1  \n",
       "poncho                            1  \n",
       "bell_cote                         1  \n",
       "crash_helmet                      1  \n",
       "maraca                            1  \n",
       "lynx                              1  \n",
       "long-horned_beetle                1  \n",
       "fiddler_crab                      1  \n",
       "golfcart                          1  \n",
       "indri                             1  \n",
       "whiptail                          1  \n",
       "dam                               1  \n",
       "tricycle                          1  \n",
       "green_lizard                      1  \n",
       "toaster                           1  \n",
       "computer_keyboard                 1  \n",
       "trench_coat                       1  \n",
       "swimming_trunks                   1  \n",
       "hair_slide                        1  \n",
       "theater_curtain                   1  \n",
       "breastplate                       1  \n",
       "coffee_mug                        1  \n",
       "Name: prediction, dtype: int64"
      ]
     },
     "execution_count": 159,
     "metadata": {},
     "output_type": "execute_result"
    }
   ],
   "source": [
    "MCDB = master_df['prediction'].value_counts()\n",
    "MCDB"
   ]
  },
  {
   "cell_type": "code",
   "execution_count": 160,
   "metadata": {
    "scrolled": false
   },
   "outputs": [
    {
     "data": {
      "image/png": "[encoded data removed]",
      "text/plain": [
       "<Figure size 720x432 with 1 Axes>"
      ]
     },
     "metadata": {},
     "output_type": "display_data"
    }
   ],
   "source": [
    "sns.set_context(context='notebook')\n",
    "sns.set(rc={'figure.figsize':(10,6)})\n",
    "top_10_dogs = master_df['prediction'].value_counts()[10::-1].plot(kind='barh',fontsize=10);\n",
    "plt.title(\"10 Most Common Dog Breed\", size=15)\n",
    "plt.xlabel(\"Tweet Count\", size=15);\n",
    "plt.savefig(\"10 Most Common Dog Breed.png\")"
   ]
  },
  {
   "cell_type": "markdown",
   "metadata": {},
   "source": [
    "### Insight 2: (With Visualization)\n",
    " - Most Common Dog Stage in all tweets."
   ]
  },
  {
   "cell_type": "code",
   "execution_count": 161,
   "metadata": {},
   "outputs": [
    {
     "data": {
      "text/plain": [
       "pupper           201\n",
       "doggo            62 \n",
       "puppo            22 \n",
       "doggo-pupper     8  \n",
       "floofer          7  \n",
       "doggo-floofer    1  \n",
       "doggo-puppo      1  \n",
       "Name: dog_stage, dtype: int64"
      ]
     },
     "execution_count": 161,
     "metadata": {},
     "output_type": "execute_result"
    }
   ],
   "source": [
    "MCDS = combined_df['dog_stage'].value_counts()\n",
    "MCDS"
   ]
  },
  {
   "cell_type": "code",
   "execution_count": 162,
   "metadata": {
    "scrolled": false
   },
   "outputs": [
    {
     "data": {
      "image/png": "[encoded data removed]",
      "text/plain": [
       "<Figure size 720x432 with 1 Axes>"
      ]
     },
     "metadata": {},
     "output_type": "display_data"
    }
   ],
   "source": [
    "sns.set_context(context='notebook')\n",
    "sns.set(rc={'figure.figsize':(10,6)})\n",
    "top_10_dogs = combined_df['dog_stage'].value_counts().plot(kind='barh',fontsize=15);\n",
    "plt.title(\"Most Common Dog Stage\", size=15)\n",
    "plt.xlabel(\"Count\", size=15);\n",
    "plt.savefig(\"Most Common Dog Stage\")"
   ]
  },
  {
   "cell_type": "markdown",
   "metadata": {},
   "source": [
    "### Insight 3: (With Visualization)\n",
    " - Average Interactions With Different Dog Stages."
   ]
  },
  {
   "cell_type": "code",
   "execution_count": 163,
   "metadata": {
    "scrolled": false
   },
   "outputs": [
    {
     "data": {
      "image/png": "[encoded data removed]",
      "text/plain": [
       "<Figure size 720x432 with 1 Axes>"
      ]
     },
     "metadata": {},
     "output_type": "display_data"
    }
   ],
   "source": [
    "sns.set_context(context='notebook')\n",
    "sns.set(rc={'figure.figsize':(10,6)})\n",
    "avg_retweet_count_dog_stage = combined_df.groupby('dog_stage').retweet_count.mean()\n",
    "avg_retweet_count_dog_stage.index\n",
    "avg_favorite_count_dog_stage = combined_df.groupby('dog_stage').favorite_count.mean()\n",
    "\n",
    "width = 0.3\n",
    "ind = np.arange(len(avg_favorite_count_dog_stage))\n",
    "locations = ind + width / 2\n",
    "labels = ('doggo', 'doggo-floofer', 'doggo-pupper', 'doggo-puppo', 'floofer', 'pupper', 'puppo')\n",
    "plt.bar(ind, avg_retweet_count_dog_stage, width, alpha=.7, label='Average Retweet Count')\n",
    "plt.bar(ind + width, avg_favorite_count_dog_stage, width, alpha=.7, label='Average Favorite Count')\n",
    "    \n",
    "plt.ylabel('counts', size=25)\n",
    "plt.xlabel('Dog Stage', size=25)\n",
    "plt.title('Average Interactions With Different Dog Stages', size=25)\n",
    "locations = ind + width / 2\n",
    "labels = ('doggo', 'doggo-floofer', 'doggo-pupper', 'doggo-puppo', 'floofer', 'pupper', 'puppo')\n",
    "plt.xticks(locations, labels)\n",
    "\n",
    "plt.legend();\n",
    "plt.savefig(\"Average Interactions\")"
   ]
  },
  {
   "cell_type": "markdown",
   "metadata": {},
   "source": [
    "### Insight 4: (With Visualization)\n",
    " - Over all Interactions With Different Dog Stages"
   ]
  },
  {
   "cell_type": "code",
   "execution_count": 164,
   "metadata": {
    "scrolled": false
   },
   "outputs": [
    {
     "data": {
      "image/png": "[encoded data removed]",
      "text/plain": [
       "<Figure size 720x432 with 1 Axes>"
      ]
     },
     "metadata": {},
     "output_type": "display_data"
    }
   ],
   "source": [
    "sns.set_context(context='notebook')\n",
    "sns.set(rc={'figure.figsize':(10,6)})\n",
    "retweet_count_dog_stage = combined_df.groupby('dog_stage').retweet_count.sum()\n",
    "retweet_count_dog_stage.index\n",
    "favorite_count_dog_stage = combined_df.groupby('dog_stage').favorite_count.sum()\n",
    "\n",
    "width = 0.3\n",
    "ind = np.arange(len(avg_favorite_count_dog_stage))\n",
    "locations = ind + width / 2\n",
    "labels = ('doggo', 'doggo-floofer', 'doggo-pupper', 'doggo-puppo', 'floofer', 'pupper', 'puppo')\n",
    "plt.bar(ind, retweet_count_dog_stage, width, alpha=.7, label='Retweet Count')\n",
    "plt.bar(ind + width, favorite_count_dog_stage, width, alpha=.7, label='Favorite Count')\n",
    "    \n",
    "plt.ylabel('counts', size=25)\n",
    "plt.xlabel('Dog Stage', size=25)\n",
    "plt.title('Over all Interactions With Different Dog Stages', size=25)\n",
    "locations = ind + width / 2\n",
    "labels = ('doggo', 'doggo-floofer', 'doggo-pupper', 'doggo-puppo', 'floofer', 'pupper', 'puppo')\n",
    "plt.xticks(locations, labels)\n",
    "\n",
    "plt.legend();\n",
    "plt.savefig(\"Over all Interactions\")"
   ]
  },
  {
   "cell_type": "code",
   "execution_count": null,
   "metadata": {},
   "outputs": [],
   "source": []
  }
 ],
 "metadata": {
  "kernelspec": {
   "display_name": "Python 3",
   "language": "python",
   "name": "python3"
  },
  "language_info": {
   "codemirror_mode": {
    "name": "ipython",
    "version": 3
   },
   "file_extension": ".py",
   "mimetype": "text/x-python",
   "name": "python",
   "nbconvert_exporter": "python",
   "pygments_lexer": "ipython3",
   "version": "3.8.5"
  }
 },
 "nbformat": 4,
 "nbformat_minor": 2
}
